{
 "cells": [
  {
   "cell_type": "markdown",
   "id": "9ca252b3-a0b9-42dc-8594-f978e1caa08c",
   "metadata": {},
   "source": [
    "Title"
   ]
  },
  {
   "cell_type": "markdown",
   "id": "c40f145d-4738-4d50-a1d9-21d2b27c457f",
   "metadata": {},
   "source": [
    "Link to the dataset: https://www.kaggle.com/datasets/xtrnglc/spotify-mbti-playlists"
   ]
  },
  {
   "cell_type": "markdown",
   "id": "5a179ebc-db31-4f4d-80e6-5b8dd7ae1e58",
   "metadata": {},
   "source": [
    "Introduction:\n",
    "\n",
    "* Provide some relevant background information on the topic so that someone unfamiliar with it will be prepared to understand the rest of your proposal\n",
    "* Clearly state the question you will try to answer with your project\n",
    "* Identify and describe the dataset that will be used to answer the question"
   ]
  },
  {
   "cell_type": "markdown",
   "id": "d580509d-f6a9-4149-aac8-11ab426ee6d1",
   "metadata": {},
   "source": [
    "Preliminary exploratory data analysis:\n",
    "* Demonstrate that the dataset can be read from the web into R \n",
    "* Clean and wrangle your data into a tidy format\n",
    "* Using only training data, summarize the data in at least one table (this is exploratory data analysis). An example of a useful table could be one that reports the number of observations in each class, the means of the predictor variables you plan to use in your analysis and how many rows have missing data. \n",
    "* Using only training data, visualize the data with at least one plot relevant to the analysis you plan to do (this is exploratory data analysis). An example of a useful visualization could be one that compares the distributions of each of the predictor variables you plan to use in your analysis."
   ]
  },
  {
   "cell_type": "markdown",
   "id": "659090af-1c29-4121-bae4-aa9a5b449296",
   "metadata": {},
   "source": [
    "Methods:\n",
    "* Explain how you will conduct either your data analysis and which variables/columns you will use. Note - you do not need to use all variables/columns that exist in the raw data set. In fact, that's often not a good idea. For each variable think: is this a useful variable for prediction?\n",
    "* Describe at least one way that you will visualize the results"
   ]
  },
  {
   "cell_type": "markdown",
   "id": "db9fa50e-d748-4495-8274-3b72acc40e53",
   "metadata": {},
   "source": [
    "Expected outcomes and significance:\n",
    "* What do you expect to find?\n",
    "* What impact could such findings have?\n",
    "* What future questions could this lead to?"
   ]
  },
  {
   "cell_type": "code",
   "execution_count": null,
   "id": "b024d7c7-9bf5-417c-9818-a5024a5bcd54",
   "metadata": {},
   "outputs": [],
   "source": []
  }
 ],
 "metadata": {
  "kernelspec": {
   "display_name": "R",
   "language": "R",
   "name": "ir"
  },
  "language_info": {
   "codemirror_mode": "r",
   "file_extension": ".r",
   "mimetype": "text/x-r-source",
   "name": "R",
   "pygments_lexer": "r",
   "version": "4.1.3"
  }
 },
 "nbformat": 4,
 "nbformat_minor": 5
}
