{
 "cells": [
  {
   "cell_type": "markdown",
   "id": "9ca252b3-a0b9-42dc-8594-f978e1caa08c",
   "metadata": {},
   "source": [
    "# Title: What is the Myers–Briggs Type Indicator (MBTI) Associated with the Type of Music?"
   ]
  },
  {
   "cell_type": "markdown",
   "id": "c40f145d-4738-4d50-a1d9-21d2b27c457f",
   "metadata": {},
   "source": [
    "Link to the dataset: https://www.kaggle.com/datasets/xtrnglc/spotify-mbti-playlists"
   ]
  },
  {
   "cell_type": "code",
   "execution_count": 1,
   "id": "0382fdf7-d148-4925-88f3-2812480ed129",
   "metadata": {},
   "outputs": [
    {
     "name": "stderr",
     "output_type": "stream",
     "text": [
      "── \u001b[1mAttaching packages\u001b[22m ─────────────────────────────────────── tidyverse 1.3.1 ──\n",
      "\n",
      "\u001b[32m✔\u001b[39m \u001b[34mggplot2\u001b[39m 3.3.6     \u001b[32m✔\u001b[39m \u001b[34mpurrr  \u001b[39m 0.3.4\n",
      "\u001b[32m✔\u001b[39m \u001b[34mtibble \u001b[39m 3.1.7     \u001b[32m✔\u001b[39m \u001b[34mdplyr  \u001b[39m 1.0.9\n",
      "\u001b[32m✔\u001b[39m \u001b[34mtidyr  \u001b[39m 1.2.0     \u001b[32m✔\u001b[39m \u001b[34mstringr\u001b[39m 1.4.0\n",
      "\u001b[32m✔\u001b[39m \u001b[34mreadr  \u001b[39m 2.1.2     \u001b[32m✔\u001b[39m \u001b[34mforcats\u001b[39m 0.5.1\n",
      "\n",
      "── \u001b[1mConflicts\u001b[22m ────────────────────────────────────────── tidyverse_conflicts() ──\n",
      "\u001b[31m✖\u001b[39m \u001b[34mdplyr\u001b[39m::\u001b[32mfilter()\u001b[39m masks \u001b[34mstats\u001b[39m::filter()\n",
      "\u001b[31m✖\u001b[39m \u001b[34mdplyr\u001b[39m::\u001b[32mlag()\u001b[39m    masks \u001b[34mstats\u001b[39m::lag()\n",
      "\n",
      "── \u001b[1mAttaching packages\u001b[22m ────────────────────────────────────── tidymodels 1.0.0 ──\n",
      "\n",
      "\u001b[32m✔\u001b[39m \u001b[34mbroom       \u001b[39m 1.0.0     \u001b[32m✔\u001b[39m \u001b[34mrsample     \u001b[39m 1.0.0\n",
      "\u001b[32m✔\u001b[39m \u001b[34mdials       \u001b[39m 1.0.0     \u001b[32m✔\u001b[39m \u001b[34mtune        \u001b[39m 1.0.0\n",
      "\u001b[32m✔\u001b[39m \u001b[34minfer       \u001b[39m 1.0.2     \u001b[32m✔\u001b[39m \u001b[34mworkflows   \u001b[39m 1.0.0\n",
      "\u001b[32m✔\u001b[39m \u001b[34mmodeldata   \u001b[39m 1.0.0     \u001b[32m✔\u001b[39m \u001b[34mworkflowsets\u001b[39m 1.0.0\n",
      "\u001b[32m✔\u001b[39m \u001b[34mparsnip     \u001b[39m 1.0.0     \u001b[32m✔\u001b[39m \u001b[34myardstick   \u001b[39m 1.0.0\n",
      "\u001b[32m✔\u001b[39m \u001b[34mrecipes     \u001b[39m 1.0.1     \n",
      "\n",
      "── \u001b[1mConflicts\u001b[22m ───────────────────────────────────────── tidymodels_conflicts() ──\n",
      "\u001b[31m✖\u001b[39m \u001b[34mscales\u001b[39m::\u001b[32mdiscard()\u001b[39m masks \u001b[34mpurrr\u001b[39m::discard()\n",
      "\u001b[31m✖\u001b[39m \u001b[34mdplyr\u001b[39m::\u001b[32mfilter()\u001b[39m   masks \u001b[34mstats\u001b[39m::filter()\n",
      "\u001b[31m✖\u001b[39m \u001b[34mrecipes\u001b[39m::\u001b[32mfixed()\u001b[39m  masks \u001b[34mstringr\u001b[39m::fixed()\n",
      "\u001b[31m✖\u001b[39m \u001b[34mdplyr\u001b[39m::\u001b[32mlag()\u001b[39m      masks \u001b[34mstats\u001b[39m::lag()\n",
      "\u001b[31m✖\u001b[39m \u001b[34myardstick\u001b[39m::\u001b[32mspec()\u001b[39m masks \u001b[34mreadr\u001b[39m::spec()\n",
      "\u001b[31m✖\u001b[39m \u001b[34mrecipes\u001b[39m::\u001b[32mstep()\u001b[39m   masks \u001b[34mstats\u001b[39m::step()\n",
      "\u001b[34m•\u001b[39m Use suppressPackageStartupMessages() to eliminate package startup messages\n",
      "\n"
     ]
    }
   ],
   "source": [
    "library(repr)\n",
    "library(tidyverse)\n",
    "library(tidymodels)\n",
    "options(repr.matrix.max.rows = 6)"
   ]
  },
  {
   "cell_type": "markdown",
   "id": "5a179ebc-db31-4f4d-80e6-5b8dd7ae1e58",
   "metadata": {},
   "source": [
    "### Introduction:\n",
    "\n",
    "Provide some relevant background information on the topic so that someone unfamiliar with it will be prepared to understand the rest of your proposal\n",
    "* What is MBTI?\n",
    "* Songs and personality\n",
    "\n",
    "Clearly state the question you will try to answer with your project\n",
    "* What is the Myers–Briggs Type Indicator (MBTI) Associated with the Given Song?\n",
    "* Classify the MBTI associated with the given song\n",
    "\n",
    "Identify and describe the dataset that will be used to answer the question\n",
    "* see the dataset context"
   ]
  },
  {
   "cell_type": "markdown",
   "id": "d580509d-f6a9-4149-aac8-11ab426ee6d1",
   "metadata": {},
   "source": [
    "### Preliminary exploratory data analysis:\n",
    "\n",
    "* Clean and wrangle your data into a tidy format (already tidy)"
   ]
  },
  {
   "cell_type": "code",
   "execution_count": 9,
   "id": "64b71b20-89c4-4807-984f-e25d0cd23bdf",
   "metadata": {},
   "outputs": [
    {
     "name": "stderr",
     "output_type": "stream",
     "text": [
      "\u001b[1mRows: \u001b[22m\u001b[34m4081\u001b[39m \u001b[1mColumns: \u001b[22m\u001b[34m46\u001b[39m\n",
      "\u001b[36m──\u001b[39m \u001b[1mColumn specification\u001b[22m \u001b[36m────────────────────────────────────────────────────────\u001b[39m\n",
      "\u001b[1mDelimiter:\u001b[22m \",\"\n",
      "\u001b[31mchr\u001b[39m  (2): mbti, function_pair\n",
      "\u001b[32mdbl\u001b[39m (44): danceability_mean, danceability_stdev, energy_mean, energy_stdev, ...\n",
      "\n",
      "\u001b[36mℹ\u001b[39m Use `spec()` to retrieve the full column specification for this data.\n",
      "\u001b[36mℹ\u001b[39m Specify the column types or set `show_col_types = FALSE` to quiet this message.\n"
     ]
    },
    {
     "data": {
      "text/html": [
       "<table class=\"dataframe\">\n",
       "<caption>A tibble: 4081 × 46</caption>\n",
       "<thead>\n",
       "\t<tr><th scope=col>mbti</th><th scope=col>function_pair</th><th scope=col>danceability_mean</th><th scope=col>danceability_stdev</th><th scope=col>energy_mean</th><th scope=col>energy_stdev</th><th scope=col>loudness_mean</th><th scope=col>loudness_stdev</th><th scope=col>mode_mean</th><th scope=col>mode_stdev</th><th scope=col>⋯</th><th scope=col>Aminor_count</th><th scope=col>AMajor_count</th><th scope=col>A#/Bbminor_count</th><th scope=col>BMajor_count</th><th scope=col>Dminor_count</th><th scope=col>D#_Ebminor_count</th><th scope=col>Gminor_count</th><th scope=col>A#/BbMajor_count</th><th scope=col>F#/GbMajor_count</th><th scope=col>Bminor_count</th></tr>\n",
       "\t<tr><th scope=col>&lt;fct&gt;</th><th scope=col>&lt;chr&gt;</th><th scope=col>&lt;dbl&gt;</th><th scope=col>&lt;dbl&gt;</th><th scope=col>&lt;dbl&gt;</th><th scope=col>&lt;dbl&gt;</th><th scope=col>&lt;dbl&gt;</th><th scope=col>&lt;dbl&gt;</th><th scope=col>&lt;dbl&gt;</th><th scope=col>&lt;dbl&gt;</th><th scope=col>⋯</th><th scope=col>&lt;dbl&gt;</th><th scope=col>&lt;dbl&gt;</th><th scope=col>&lt;dbl&gt;</th><th scope=col>&lt;dbl&gt;</th><th scope=col>&lt;dbl&gt;</th><th scope=col>&lt;dbl&gt;</th><th scope=col>&lt;dbl&gt;</th><th scope=col>&lt;dbl&gt;</th><th scope=col>&lt;dbl&gt;</th><th scope=col>&lt;dbl&gt;</th></tr>\n",
       "</thead>\n",
       "<tbody>\n",
       "\t<tr><td>INFP</td><td>NF</td><td>0.5578409</td><td>0.1550106</td><td>0.5533250</td><td>0.2251780</td><td>-8.352591</td><td>3.273317</td><td>0.6590909</td><td>0.4794950</td><td>⋯</td><td>2</td><td>2</td><td>1</td><td>4</td><td>0</td><td>0</td><td>0</td><td>0</td><td>0</td><td>0</td></tr>\n",
       "\t<tr><td>INFP</td><td>NF</td><td>0.5876364</td><td>0.1356443</td><td>0.5562727</td><td>0.1916420</td><td>-8.215697</td><td>3.356867</td><td>0.6363636</td><td>0.4885042</td><td>⋯</td><td>1</td><td>2</td><td>1</td><td>4</td><td>1</td><td>1</td><td>1</td><td>1</td><td>0</td><td>0</td></tr>\n",
       "\t<tr><td>INFP</td><td>NF</td><td>0.6770000</td><td>0.1280094</td><td>0.8512800</td><td>0.1283365</td><td>-5.046100</td><td>2.180554</td><td>0.5800000</td><td>0.4985694</td><td>⋯</td><td>0</td><td>1</td><td>1</td><td>3</td><td>1</td><td>0</td><td>0</td><td>1</td><td>2</td><td>9</td></tr>\n",
       "\t<tr><td>⋮</td><td>⋮</td><td>⋮</td><td>⋮</td><td>⋮</td><td>⋮</td><td>⋮</td><td>⋮</td><td>⋮</td><td>⋮</td><td>⋱</td><td>⋮</td><td>⋮</td><td>⋮</td><td>⋮</td><td>⋮</td><td>⋮</td><td>⋮</td><td>⋮</td><td>⋮</td><td>⋮</td></tr>\n",
       "\t<tr><td>ESTJ</td><td>SJ</td><td>0.5853125</td><td>0.1819083</td><td>0.6943750</td><td>0.1736364</td><td>-5.307063</td><td>1.531874</td><td>0.5625000</td><td>0.5123475</td><td>⋯</td><td>1</td><td>1</td><td>2</td><td>0</td><td>1</td><td>0</td><td>0</td><td>0</td><td>0</td><td>1</td></tr>\n",
       "\t<tr><td>ESTJ</td><td>SJ</td><td>0.6360400</td><td>0.1523822</td><td>0.6524200</td><td>0.1760419</td><td>-6.553020</td><td>2.813042</td><td>0.5400000</td><td>0.5034574</td><td>⋯</td><td>2</td><td>0</td><td>3</td><td>1</td><td>0</td><td>1</td><td>2</td><td>2</td><td>1</td><td>3</td></tr>\n",
       "\t<tr><td>ESTJ</td><td>SJ</td><td>0.6407333</td><td>0.1452048</td><td>0.6783333</td><td>0.1824823</td><td>-5.763733</td><td>2.075266</td><td>0.5555556</td><td>0.5025189</td><td>⋯</td><td>2</td><td>0</td><td>4</td><td>1</td><td>2</td><td>0</td><td>3</td><td>1</td><td>2</td><td>2</td></tr>\n",
       "</tbody>\n",
       "</table>\n"
      ],
      "text/latex": [
       "A tibble: 4081 × 46\n",
       "\\begin{tabular}{lllllllllllllllllllll}\n",
       " mbti & function\\_pair & danceability\\_mean & danceability\\_stdev & energy\\_mean & energy\\_stdev & loudness\\_mean & loudness\\_stdev & mode\\_mean & mode\\_stdev & ⋯ & Aminor\\_count & AMajor\\_count & A\\#/Bbminor\\_count & BMajor\\_count & Dminor\\_count & D\\#\\_Ebminor\\_count & Gminor\\_count & A\\#/BbMajor\\_count & F\\#/GbMajor\\_count & Bminor\\_count\\\\\n",
       " <fct> & <chr> & <dbl> & <dbl> & <dbl> & <dbl> & <dbl> & <dbl> & <dbl> & <dbl> & ⋯ & <dbl> & <dbl> & <dbl> & <dbl> & <dbl> & <dbl> & <dbl> & <dbl> & <dbl> & <dbl>\\\\\n",
       "\\hline\n",
       "\t INFP & NF & 0.5578409 & 0.1550106 & 0.5533250 & 0.2251780 & -8.352591 & 3.273317 & 0.6590909 & 0.4794950 & ⋯ & 2 & 2 & 1 & 4 & 0 & 0 & 0 & 0 & 0 & 0\\\\\n",
       "\t INFP & NF & 0.5876364 & 0.1356443 & 0.5562727 & 0.1916420 & -8.215697 & 3.356867 & 0.6363636 & 0.4885042 & ⋯ & 1 & 2 & 1 & 4 & 1 & 1 & 1 & 1 & 0 & 0\\\\\n",
       "\t INFP & NF & 0.6770000 & 0.1280094 & 0.8512800 & 0.1283365 & -5.046100 & 2.180554 & 0.5800000 & 0.4985694 & ⋯ & 0 & 1 & 1 & 3 & 1 & 0 & 0 & 1 & 2 & 9\\\\\n",
       "\t ⋮ & ⋮ & ⋮ & ⋮ & ⋮ & ⋮ & ⋮ & ⋮ & ⋮ & ⋮ & ⋱ & ⋮ & ⋮ & ⋮ & ⋮ & ⋮ & ⋮ & ⋮ & ⋮ & ⋮ & ⋮\\\\\n",
       "\t ESTJ & SJ & 0.5853125 & 0.1819083 & 0.6943750 & 0.1736364 & -5.307063 & 1.531874 & 0.5625000 & 0.5123475 & ⋯ & 1 & 1 & 2 & 0 & 1 & 0 & 0 & 0 & 0 & 1\\\\\n",
       "\t ESTJ & SJ & 0.6360400 & 0.1523822 & 0.6524200 & 0.1760419 & -6.553020 & 2.813042 & 0.5400000 & 0.5034574 & ⋯ & 2 & 0 & 3 & 1 & 0 & 1 & 2 & 2 & 1 & 3\\\\\n",
       "\t ESTJ & SJ & 0.6407333 & 0.1452048 & 0.6783333 & 0.1824823 & -5.763733 & 2.075266 & 0.5555556 & 0.5025189 & ⋯ & 2 & 0 & 4 & 1 & 2 & 0 & 3 & 1 & 2 & 2\\\\\n",
       "\\end{tabular}\n"
      ],
      "text/markdown": [
       "\n",
       "A tibble: 4081 × 46\n",
       "\n",
       "| mbti &lt;fct&gt; | function_pair &lt;chr&gt; | danceability_mean &lt;dbl&gt; | danceability_stdev &lt;dbl&gt; | energy_mean &lt;dbl&gt; | energy_stdev &lt;dbl&gt; | loudness_mean &lt;dbl&gt; | loudness_stdev &lt;dbl&gt; | mode_mean &lt;dbl&gt; | mode_stdev &lt;dbl&gt; | ⋯ ⋯ | Aminor_count &lt;dbl&gt; | AMajor_count &lt;dbl&gt; | A#/Bbminor_count &lt;dbl&gt; | BMajor_count &lt;dbl&gt; | Dminor_count &lt;dbl&gt; | D#_Ebminor_count &lt;dbl&gt; | Gminor_count &lt;dbl&gt; | A#/BbMajor_count &lt;dbl&gt; | F#/GbMajor_count &lt;dbl&gt; | Bminor_count &lt;dbl&gt; |\n",
       "|---|---|---|---|---|---|---|---|---|---|---|---|---|---|---|---|---|---|---|---|---|\n",
       "| INFP | NF | 0.5578409 | 0.1550106 | 0.5533250 | 0.2251780 | -8.352591 | 3.273317 | 0.6590909 | 0.4794950 | ⋯ | 2 | 2 | 1 | 4 | 0 | 0 | 0 | 0 | 0 | 0 |\n",
       "| INFP | NF | 0.5876364 | 0.1356443 | 0.5562727 | 0.1916420 | -8.215697 | 3.356867 | 0.6363636 | 0.4885042 | ⋯ | 1 | 2 | 1 | 4 | 1 | 1 | 1 | 1 | 0 | 0 |\n",
       "| INFP | NF | 0.6770000 | 0.1280094 | 0.8512800 | 0.1283365 | -5.046100 | 2.180554 | 0.5800000 | 0.4985694 | ⋯ | 0 | 1 | 1 | 3 | 1 | 0 | 0 | 1 | 2 | 9 |\n",
       "| ⋮ | ⋮ | ⋮ | ⋮ | ⋮ | ⋮ | ⋮ | ⋮ | ⋮ | ⋮ | ⋱ | ⋮ | ⋮ | ⋮ | ⋮ | ⋮ | ⋮ | ⋮ | ⋮ | ⋮ | ⋮ |\n",
       "| ESTJ | SJ | 0.5853125 | 0.1819083 | 0.6943750 | 0.1736364 | -5.307063 | 1.531874 | 0.5625000 | 0.5123475 | ⋯ | 1 | 1 | 2 | 0 | 1 | 0 | 0 | 0 | 0 | 1 |\n",
       "| ESTJ | SJ | 0.6360400 | 0.1523822 | 0.6524200 | 0.1760419 | -6.553020 | 2.813042 | 0.5400000 | 0.5034574 | ⋯ | 2 | 0 | 3 | 1 | 0 | 1 | 2 | 2 | 1 | 3 |\n",
       "| ESTJ | SJ | 0.6407333 | 0.1452048 | 0.6783333 | 0.1824823 | -5.763733 | 2.075266 | 0.5555556 | 0.5025189 | ⋯ | 2 | 0 | 4 | 1 | 2 | 0 | 3 | 1 | 2 | 2 |\n",
       "\n"
      ],
      "text/plain": [
       "     mbti function_pair danceability_mean danceability_stdev energy_mean\n",
       "1    INFP NF            0.5578409         0.1550106          0.5533250  \n",
       "2    INFP NF            0.5876364         0.1356443          0.5562727  \n",
       "3    INFP NF            0.6770000         0.1280094          0.8512800  \n",
       "⋮    ⋮    ⋮             ⋮                 ⋮                  ⋮          \n",
       "4079 ESTJ SJ            0.5853125         0.1819083          0.6943750  \n",
       "4080 ESTJ SJ            0.6360400         0.1523822          0.6524200  \n",
       "4081 ESTJ SJ            0.6407333         0.1452048          0.6783333  \n",
       "     energy_stdev loudness_mean loudness_stdev mode_mean mode_stdev ⋯\n",
       "1    0.2251780    -8.352591     3.273317       0.6590909 0.4794950  ⋯\n",
       "2    0.1916420    -8.215697     3.356867       0.6363636 0.4885042  ⋯\n",
       "3    0.1283365    -5.046100     2.180554       0.5800000 0.4985694  ⋯\n",
       "⋮    ⋮            ⋮             ⋮              ⋮         ⋮          ⋱\n",
       "4079 0.1736364    -5.307063     1.531874       0.5625000 0.5123475  ⋯\n",
       "4080 0.1760419    -6.553020     2.813042       0.5400000 0.5034574  ⋯\n",
       "4081 0.1824823    -5.763733     2.075266       0.5555556 0.5025189  ⋯\n",
       "     Aminor_count AMajor_count A#/Bbminor_count BMajor_count Dminor_count\n",
       "1    2            2            1                4            0           \n",
       "2    1            2            1                4            1           \n",
       "3    0            1            1                3            1           \n",
       "⋮    ⋮            ⋮            ⋮                ⋮            ⋮           \n",
       "4079 1            1            2                0            1           \n",
       "4080 2            0            3                1            0           \n",
       "4081 2            0            4                1            2           \n",
       "     D#_Ebminor_count Gminor_count A#/BbMajor_count F#/GbMajor_count\n",
       "1    0                0            0                0               \n",
       "2    1                1            1                0               \n",
       "3    0                0            1                2               \n",
       "⋮    ⋮                ⋮            ⋮                ⋮               \n",
       "4079 0                0            0                0               \n",
       "4080 1                2            2                1               \n",
       "4081 0                3            1                2               \n",
       "     Bminor_count\n",
       "1    0           \n",
       "2    0           \n",
       "3    9           \n",
       "⋮    ⋮           \n",
       "4079 1           \n",
       "4080 3           \n",
       "4081 2           "
      ]
     },
     "metadata": {},
     "output_type": "display_data"
    }
   ],
   "source": [
    "spotify_mbti <- read_csv(\"combined_mbti_df.csv\") |>\n",
    "    mutate(mbti = as_factor(mbti))\n",
    "spotify_mbti"
   ]
  },
  {
   "cell_type": "code",
   "execution_count": 3,
   "id": "ee71393e-d78c-4657-8106-67004c65ad5a",
   "metadata": {},
   "outputs": [
    {
     "name": "stdout",
     "output_type": "stream",
     "text": [
      "Rows: 4,081\n",
      "Columns: 46\n",
      "$ mbti                   \u001b[3m\u001b[90m<fct>\u001b[39m\u001b[23m INFP, INFP, INFP, INFP, INFP, INFP, INFP, INFP,…\n",
      "$ function_pair          \u001b[3m\u001b[90m<chr>\u001b[39m\u001b[23m \"NF\", \"NF\", \"NF\", \"NF\", \"NF\", \"NF\", \"NF\", \"NF\",…\n",
      "$ danceability_mean      \u001b[3m\u001b[90m<dbl>\u001b[39m\u001b[23m 0.5578409, 0.5876364, 0.6770000, 0.5170000, 0.5…\n",
      "$ danceability_stdev     \u001b[3m\u001b[90m<dbl>\u001b[39m\u001b[23m 0.15501057, 0.13564425, 0.12800941, 0.16947739,…\n",
      "$ energy_mean            \u001b[3m\u001b[90m<dbl>\u001b[39m\u001b[23m 0.5533250, 0.5562727, 0.8512800, 0.5134119, 0.4…\n",
      "$ energy_stdev           \u001b[3m\u001b[90m<dbl>\u001b[39m\u001b[23m 0.22517799, 0.19164196, 0.12833646, 0.25834492,…\n",
      "$ loudness_mean          \u001b[3m\u001b[90m<dbl>\u001b[39m\u001b[23m -8.352591, -8.215697, -5.046100, -10.172833, -1…\n",
      "$ loudness_stdev         \u001b[3m\u001b[90m<dbl>\u001b[39m\u001b[23m 3.273317, 3.356867, 2.180554, 4.935140, 5.68517…\n",
      "$ mode_mean              \u001b[3m\u001b[90m<dbl>\u001b[39m\u001b[23m 0.6590909, 0.6363636, 0.5800000, 0.7857143, 0.8…\n",
      "$ mode_stdev             \u001b[3m\u001b[90m<dbl>\u001b[39m\u001b[23m 0.4794950, 0.4885042, 0.4985694, 0.4152997, 0.3…\n",
      "$ speechiness_mean       \u001b[3m\u001b[90m<dbl>\u001b[39m\u001b[23m 0.06734091, 0.07427273, 0.27254600, 0.05150952,…\n",
      "$ speechiness_stdev      \u001b[3m\u001b[90m<dbl>\u001b[39m\u001b[23m 0.06108258, 0.08338823, 0.17601286, 0.03391090,…\n",
      "$ acousticness_mean      \u001b[3m\u001b[90m<dbl>\u001b[39m\u001b[23m 0.29346909, 0.34143394, 0.05808475, 0.44216304,…\n",
      "$ acousticness_stdev     \u001b[3m\u001b[90m<dbl>\u001b[39m\u001b[23m 0.28608805, 0.26707676, 0.07481759, 0.36702457,…\n",
      "$ liveness_mean          \u001b[3m\u001b[90m<dbl>\u001b[39m\u001b[23m 0.1634023, 0.1545424, 0.2645200, 0.1526452, 0.1…\n",
      "$ liveness_stdev         \u001b[3m\u001b[90m<dbl>\u001b[39m\u001b[23m 0.08626590, 0.11249567, 0.20809663, 0.09595586,…\n",
      "$ valence_mean           \u001b[3m\u001b[90m<dbl>\u001b[39m\u001b[23m 0.4488841, 0.4476030, 0.2650300, 0.3378452, 0.3…\n",
      "$ valence_stdev          \u001b[3m\u001b[90m<dbl>\u001b[39m\u001b[23m 0.2217635, 0.2160687, 0.1705175, 0.2118900, 0.1…\n",
      "$ tempo_mean             \u001b[3m\u001b[90m<dbl>\u001b[39m\u001b[23m 120.95480, 131.87124, 128.20602, 120.59357, 114…\n",
      "$ tempo_stdev            \u001b[3m\u001b[90m<dbl>\u001b[39m\u001b[23m 32.16578, 33.21601, 26.92719, 34.33522, 30.0341…\n",
      "$ instrumentalness_mean  \u001b[3m\u001b[90m<dbl>\u001b[39m\u001b[23m 0.0199709930, 0.0610408642, 0.2503575614, 0.210…\n",
      "$ instrumentalness_stdev \u001b[3m\u001b[90m<dbl>\u001b[39m\u001b[23m 8.180459e-02, 1.775587e-01, 3.318047e-01, 2.943…\n",
      "$ Cminor_count           \u001b[3m\u001b[90m<dbl>\u001b[39m\u001b[23m 1, 1, 0, 2, 2, 1, 1, 5, 1, 0, 0, 1, 0, 1, 1, 4,…\n",
      "$ CMajor_count           \u001b[3m\u001b[90m<dbl>\u001b[39m\u001b[23m 5, 5, 0, 6, 12, 1, 5, 3, 13, 6, 2, 5, 0, 3, 3, …\n",
      "$ `C#/Dbminor_count`     \u001b[3m\u001b[90m<dbl>\u001b[39m\u001b[23m 3, 0, 3, 0, 0, 0, 1, 2, 0, 0, 2, 0, 2, 2, 0, 1,…\n",
      "$ `C#/DbMajor_count`     \u001b[3m\u001b[90m<dbl>\u001b[39m\u001b[23m 5, 1, 13, 2, 4, 6, 3, 1, 1, 7, 10, 5, 5, 2, 6, …\n",
      "$ DMajor_count           \u001b[3m\u001b[90m<dbl>\u001b[39m\u001b[23m 4, 1, 4, 3, 2, 3, 5, 4, 5, 4, 5, 3, 3, 4, 2, 3,…\n",
      "$ `D#_EbMajor_count`     \u001b[3m\u001b[90m<dbl>\u001b[39m\u001b[23m 3, 0, 0, 0, 2, 0, 0, 0, 1, 2, 0, 1, 0, 1, 1, 3,…\n",
      "$ Eminor_count           \u001b[3m\u001b[90m<dbl>\u001b[39m\u001b[23m 5, 4, 2, 1, 2, 1, 6, 3, 0, 2, 4, 4, 3, 3, 2, 3,…\n",
      "$ EMajor_count           \u001b[3m\u001b[90m<dbl>\u001b[39m\u001b[23m 1, 0, 0, 5, 0, 0, 2, 0, 6, 2, 1, 4, 1, 1, 3, 1,…\n",
      "$ Fminor_count           \u001b[3m\u001b[90m<dbl>\u001b[39m\u001b[23m 1, 1, 2, 1, 0, 1, 2, 1, 0, 1, 5, 2, 1, 0, 3, 2,…\n",
      "$ FMajor_count           \u001b[3m\u001b[90m<dbl>\u001b[39m\u001b[23m 2, 2, 1, 3, 2, 0, 2, 1, 5, 2, 0, 5, 1, 1, 3, 0,…\n",
      "$ `F#/Gbminor_count`     \u001b[3m\u001b[90m<dbl>\u001b[39m\u001b[23m 1, 0, 2, 2, 0, 1, 0, 2, 0, 1, 7, 2, 2, 1, 4, 2,…\n",
      "$ GMajor_count           \u001b[3m\u001b[90m<dbl>\u001b[39m\u001b[23m 2, 3, 2, 1, 4, 3, 2, 2, 7, 5, 1, 1, 5, 4, 2, 6,…\n",
      "$ `G#/Abminor_count`     \u001b[3m\u001b[90m<dbl>\u001b[39m\u001b[23m 1, 1, 1, 0, 1, 0, 0, 3, 0, 0, 1, 1, 1, 2, 0, 0,…\n",
      "$ `G#/AbMajor_count`     \u001b[3m\u001b[90m<dbl>\u001b[39m\u001b[23m 1, 2, 2, 3, 1, 1, 4, 1, 2, 1, 3, 1, 2, 4, 3, 3,…\n",
      "$ Aminor_count           \u001b[3m\u001b[90m<dbl>\u001b[39m\u001b[23m 2, 1, 0, 2, 1, 0, 1, 6, 0, 2, 0, 3, 0, 3, 0, 2,…\n",
      "$ AMajor_count           \u001b[3m\u001b[90m<dbl>\u001b[39m\u001b[23m 2, 2, 1, 5, 7, 1, 2, 0, 4, 3, 1, 2, 1, 2, 5, 2,…\n",
      "$ `A#/Bbminor_count`     \u001b[3m\u001b[90m<dbl>\u001b[39m\u001b[23m 1, 1, 1, 0, 2, 3, 1, 0, 0, 1, 1, 1, 8, 1, 1, 1,…\n",
      "$ BMajor_count           \u001b[3m\u001b[90m<dbl>\u001b[39m\u001b[23m 4, 4, 3, 2, 1, 1, 4, 0, 1, 4, 0, 3, 0, 0, 0, 0,…\n",
      "$ Dminor_count           \u001b[3m\u001b[90m<dbl>\u001b[39m\u001b[23m 0, 1, 1, 0, 0, 1, 3, 6, 0, 1, 0, 1, 0, 1, 0, 2,…\n",
      "$ `D#_Ebminor_count`     \u001b[3m\u001b[90m<dbl>\u001b[39m\u001b[23m 0, 1, 0, 1, 0, 2, 0, 3, 0, 0, 0, 1, 1, 0, 0, 0,…\n",
      "$ Gminor_count           \u001b[3m\u001b[90m<dbl>\u001b[39m\u001b[23m 0, 1, 0, 0, 0, 0, 1, 2, 0, 2, 0, 1, 0, 0, 0, 0,…\n",
      "$ `A#/BbMajor_count`     \u001b[3m\u001b[90m<dbl>\u001b[39m\u001b[23m 0, 1, 1, 3, 5, 0, 1, 0, 3, 0, 0, 0, 0, 1, 4, 0,…\n",
      "$ `F#/GbMajor_count`     \u001b[3m\u001b[90m<dbl>\u001b[39m\u001b[23m 0, 0, 2, 0, 1, 1, 2, 1, 1, 2, 2, 2, 6, 3, 3, 2,…\n",
      "$ Bminor_count           \u001b[3m\u001b[90m<dbl>\u001b[39m\u001b[23m 0, 0, 9, 0, 1, 4, 2, 4, 0, 2, 5, 1, 8, 5, 0, 3,…\n"
     ]
    }
   ],
   "source": [
    "glimpse(spotify_mbti)"
   ]
  },
  {
   "cell_type": "code",
   "execution_count": 10,
   "id": "22a3f03c-113a-4a6d-b33b-abc5050d0e84",
   "metadata": {},
   "outputs": [
    {
     "data": {
      "text/html": [
       "<table class=\"dataframe\">\n",
       "<caption>A tibble: 4081 × 23</caption>\n",
       "<thead>\n",
       "\t<tr><th scope=col>mbti</th><th scope=col>danceability_mean</th><th scope=col>danceability_stdev</th><th scope=col>energy_mean</th><th scope=col>energy_stdev</th><th scope=col>loudness_mean</th><th scope=col>loudness_stdev</th><th scope=col>mode_mean</th><th scope=col>mode_stdev</th><th scope=col>speechiness_mean</th><th scope=col>⋯</th><th scope=col>liveness_mean</th><th scope=col>liveness_stdev</th><th scope=col>valence_mean</th><th scope=col>valence_stdev</th><th scope=col>tempo_mean</th><th scope=col>tempo_stdev</th><th scope=col>instrumentalness_mean</th><th scope=col>instrumentalness_stdev</th><th scope=col>major_count</th><th scope=col>minor_count</th></tr>\n",
       "\t<tr><th scope=col>&lt;fct&gt;</th><th scope=col>&lt;dbl&gt;</th><th scope=col>&lt;dbl&gt;</th><th scope=col>&lt;dbl&gt;</th><th scope=col>&lt;dbl&gt;</th><th scope=col>&lt;dbl&gt;</th><th scope=col>&lt;dbl&gt;</th><th scope=col>&lt;dbl&gt;</th><th scope=col>&lt;dbl&gt;</th><th scope=col>&lt;dbl&gt;</th><th scope=col>⋯</th><th scope=col>&lt;dbl&gt;</th><th scope=col>&lt;dbl&gt;</th><th scope=col>&lt;dbl&gt;</th><th scope=col>&lt;dbl&gt;</th><th scope=col>&lt;dbl&gt;</th><th scope=col>&lt;dbl&gt;</th><th scope=col>&lt;dbl&gt;</th><th scope=col>&lt;dbl&gt;</th><th scope=col>&lt;dbl&gt;</th><th scope=col>&lt;dbl&gt;</th></tr>\n",
       "</thead>\n",
       "<tbody>\n",
       "\t<tr><td>INFP</td><td>0.5578409</td><td>0.1550106</td><td>0.5533250</td><td>0.2251780</td><td>-8.352591</td><td>3.273317</td><td>0.6590909</td><td>0.4794950</td><td>0.06734091</td><td>⋯</td><td>0.1634023</td><td>0.0862659</td><td>0.4488841</td><td>0.2217635</td><td>120.9548</td><td>32.16578</td><td>0.01997099</td><td>0.08180459</td><td>29</td><td>15</td></tr>\n",
       "\t<tr><td>INFP</td><td>0.5876364</td><td>0.1356443</td><td>0.5562727</td><td>0.1916420</td><td>-8.215697</td><td>3.356867</td><td>0.6363636</td><td>0.4885042</td><td>0.07427273</td><td>⋯</td><td>0.1545424</td><td>0.1124957</td><td>0.4476030</td><td>0.2160687</td><td>131.8712</td><td>33.21601</td><td>0.06104086</td><td>0.17755873</td><td>21</td><td>12</td></tr>\n",
       "\t<tr><td>INFP</td><td>0.6770000</td><td>0.1280094</td><td>0.8512800</td><td>0.1283365</td><td>-5.046100</td><td>2.180554</td><td>0.5800000</td><td>0.4985694</td><td>0.27254600</td><td>⋯</td><td>0.2645200</td><td>0.2080966</td><td>0.2650300</td><td>0.1705175</td><td>128.2060</td><td>26.92719</td><td>0.25035756</td><td>0.33180466</td><td>29</td><td>21</td></tr>\n",
       "\t<tr><td>⋮</td><td>⋮</td><td>⋮</td><td>⋮</td><td>⋮</td><td>⋮</td><td>⋮</td><td>⋮</td><td>⋮</td><td>⋮</td><td>⋱</td><td>⋮</td><td>⋮</td><td>⋮</td><td>⋮</td><td>⋮</td><td>⋮</td><td>⋮</td><td>⋮</td><td>⋮</td><td>⋮</td></tr>\n",
       "\t<tr><td>ESTJ</td><td>0.5853125</td><td>0.1819083</td><td>0.6943750</td><td>0.1736364</td><td>-5.307063</td><td>1.531874</td><td>0.5625000</td><td>0.5123475</td><td>0.09024375</td><td>⋯</td><td>0.1578000</td><td>0.1065317</td><td>0.5220625</td><td>0.2437776</td><td>122.6099</td><td>33.19806</td><td>0.0009960725</td><td>0.0029272391</td><td> 9</td><td> 7</td></tr>\n",
       "\t<tr><td>ESTJ</td><td>0.6360400</td><td>0.1523822</td><td>0.6524200</td><td>0.1760419</td><td>-6.553020</td><td>2.813042</td><td>0.5400000</td><td>0.5034574</td><td>0.09537600</td><td>⋯</td><td>0.1564140</td><td>0.1230124</td><td>0.5587180</td><td>0.2778599</td><td>125.0429</td><td>29.28428</td><td>0.0389386528</td><td>0.1495546238</td><td>27</td><td>23</td></tr>\n",
       "\t<tr><td>ESTJ</td><td>0.6407333</td><td>0.1452048</td><td>0.6783333</td><td>0.1824823</td><td>-5.763733</td><td>2.075266</td><td>0.5555556</td><td>0.5025189</td><td>0.10697778</td><td>⋯</td><td>0.1925044</td><td>0.1268794</td><td>0.5557111</td><td>0.2316916</td><td>123.6504</td><td>27.03963</td><td>0.0001314116</td><td>0.0005088235</td><td>25</td><td>20</td></tr>\n",
       "</tbody>\n",
       "</table>\n"
      ],
      "text/latex": [
       "A tibble: 4081 × 23\n",
       "\\begin{tabular}{lllllllllllllllllllll}\n",
       " mbti & danceability\\_mean & danceability\\_stdev & energy\\_mean & energy\\_stdev & loudness\\_mean & loudness\\_stdev & mode\\_mean & mode\\_stdev & speechiness\\_mean & ⋯ & liveness\\_mean & liveness\\_stdev & valence\\_mean & valence\\_stdev & tempo\\_mean & tempo\\_stdev & instrumentalness\\_mean & instrumentalness\\_stdev & major\\_count & minor\\_count\\\\\n",
       " <fct> & <dbl> & <dbl> & <dbl> & <dbl> & <dbl> & <dbl> & <dbl> & <dbl> & <dbl> & ⋯ & <dbl> & <dbl> & <dbl> & <dbl> & <dbl> & <dbl> & <dbl> & <dbl> & <dbl> & <dbl>\\\\\n",
       "\\hline\n",
       "\t INFP & 0.5578409 & 0.1550106 & 0.5533250 & 0.2251780 & -8.352591 & 3.273317 & 0.6590909 & 0.4794950 & 0.06734091 & ⋯ & 0.1634023 & 0.0862659 & 0.4488841 & 0.2217635 & 120.9548 & 32.16578 & 0.01997099 & 0.08180459 & 29 & 15\\\\\n",
       "\t INFP & 0.5876364 & 0.1356443 & 0.5562727 & 0.1916420 & -8.215697 & 3.356867 & 0.6363636 & 0.4885042 & 0.07427273 & ⋯ & 0.1545424 & 0.1124957 & 0.4476030 & 0.2160687 & 131.8712 & 33.21601 & 0.06104086 & 0.17755873 & 21 & 12\\\\\n",
       "\t INFP & 0.6770000 & 0.1280094 & 0.8512800 & 0.1283365 & -5.046100 & 2.180554 & 0.5800000 & 0.4985694 & 0.27254600 & ⋯ & 0.2645200 & 0.2080966 & 0.2650300 & 0.1705175 & 128.2060 & 26.92719 & 0.25035756 & 0.33180466 & 29 & 21\\\\\n",
       "\t ⋮ & ⋮ & ⋮ & ⋮ & ⋮ & ⋮ & ⋮ & ⋮ & ⋮ & ⋮ & ⋱ & ⋮ & ⋮ & ⋮ & ⋮ & ⋮ & ⋮ & ⋮ & ⋮ & ⋮ & ⋮\\\\\n",
       "\t ESTJ & 0.5853125 & 0.1819083 & 0.6943750 & 0.1736364 & -5.307063 & 1.531874 & 0.5625000 & 0.5123475 & 0.09024375 & ⋯ & 0.1578000 & 0.1065317 & 0.5220625 & 0.2437776 & 122.6099 & 33.19806 & 0.0009960725 & 0.0029272391 &  9 &  7\\\\\n",
       "\t ESTJ & 0.6360400 & 0.1523822 & 0.6524200 & 0.1760419 & -6.553020 & 2.813042 & 0.5400000 & 0.5034574 & 0.09537600 & ⋯ & 0.1564140 & 0.1230124 & 0.5587180 & 0.2778599 & 125.0429 & 29.28428 & 0.0389386528 & 0.1495546238 & 27 & 23\\\\\n",
       "\t ESTJ & 0.6407333 & 0.1452048 & 0.6783333 & 0.1824823 & -5.763733 & 2.075266 & 0.5555556 & 0.5025189 & 0.10697778 & ⋯ & 0.1925044 & 0.1268794 & 0.5557111 & 0.2316916 & 123.6504 & 27.03963 & 0.0001314116 & 0.0005088235 & 25 & 20\\\\\n",
       "\\end{tabular}\n"
      ],
      "text/markdown": [
       "\n",
       "A tibble: 4081 × 23\n",
       "\n",
       "| mbti &lt;fct&gt; | danceability_mean &lt;dbl&gt; | danceability_stdev &lt;dbl&gt; | energy_mean &lt;dbl&gt; | energy_stdev &lt;dbl&gt; | loudness_mean &lt;dbl&gt; | loudness_stdev &lt;dbl&gt; | mode_mean &lt;dbl&gt; | mode_stdev &lt;dbl&gt; | speechiness_mean &lt;dbl&gt; | ⋯ ⋯ | liveness_mean &lt;dbl&gt; | liveness_stdev &lt;dbl&gt; | valence_mean &lt;dbl&gt; | valence_stdev &lt;dbl&gt; | tempo_mean &lt;dbl&gt; | tempo_stdev &lt;dbl&gt; | instrumentalness_mean &lt;dbl&gt; | instrumentalness_stdev &lt;dbl&gt; | major_count &lt;dbl&gt; | minor_count &lt;dbl&gt; |\n",
       "|---|---|---|---|---|---|---|---|---|---|---|---|---|---|---|---|---|---|---|---|---|\n",
       "| INFP | 0.5578409 | 0.1550106 | 0.5533250 | 0.2251780 | -8.352591 | 3.273317 | 0.6590909 | 0.4794950 | 0.06734091 | ⋯ | 0.1634023 | 0.0862659 | 0.4488841 | 0.2217635 | 120.9548 | 32.16578 | 0.01997099 | 0.08180459 | 29 | 15 |\n",
       "| INFP | 0.5876364 | 0.1356443 | 0.5562727 | 0.1916420 | -8.215697 | 3.356867 | 0.6363636 | 0.4885042 | 0.07427273 | ⋯ | 0.1545424 | 0.1124957 | 0.4476030 | 0.2160687 | 131.8712 | 33.21601 | 0.06104086 | 0.17755873 | 21 | 12 |\n",
       "| INFP | 0.6770000 | 0.1280094 | 0.8512800 | 0.1283365 | -5.046100 | 2.180554 | 0.5800000 | 0.4985694 | 0.27254600 | ⋯ | 0.2645200 | 0.2080966 | 0.2650300 | 0.1705175 | 128.2060 | 26.92719 | 0.25035756 | 0.33180466 | 29 | 21 |\n",
       "| ⋮ | ⋮ | ⋮ | ⋮ | ⋮ | ⋮ | ⋮ | ⋮ | ⋮ | ⋮ | ⋱ | ⋮ | ⋮ | ⋮ | ⋮ | ⋮ | ⋮ | ⋮ | ⋮ | ⋮ | ⋮ |\n",
       "| ESTJ | 0.5853125 | 0.1819083 | 0.6943750 | 0.1736364 | -5.307063 | 1.531874 | 0.5625000 | 0.5123475 | 0.09024375 | ⋯ | 0.1578000 | 0.1065317 | 0.5220625 | 0.2437776 | 122.6099 | 33.19806 | 0.0009960725 | 0.0029272391 |  9 |  7 |\n",
       "| ESTJ | 0.6360400 | 0.1523822 | 0.6524200 | 0.1760419 | -6.553020 | 2.813042 | 0.5400000 | 0.5034574 | 0.09537600 | ⋯ | 0.1564140 | 0.1230124 | 0.5587180 | 0.2778599 | 125.0429 | 29.28428 | 0.0389386528 | 0.1495546238 | 27 | 23 |\n",
       "| ESTJ | 0.6407333 | 0.1452048 | 0.6783333 | 0.1824823 | -5.763733 | 2.075266 | 0.5555556 | 0.5025189 | 0.10697778 | ⋯ | 0.1925044 | 0.1268794 | 0.5557111 | 0.2316916 | 123.6504 | 27.03963 | 0.0001314116 | 0.0005088235 | 25 | 20 |\n",
       "\n"
      ],
      "text/plain": [
       "     mbti danceability_mean danceability_stdev energy_mean energy_stdev\n",
       "1    INFP 0.5578409         0.1550106          0.5533250   0.2251780   \n",
       "2    INFP 0.5876364         0.1356443          0.5562727   0.1916420   \n",
       "3    INFP 0.6770000         0.1280094          0.8512800   0.1283365   \n",
       "⋮    ⋮    ⋮                 ⋮                  ⋮           ⋮           \n",
       "4079 ESTJ 0.5853125         0.1819083          0.6943750   0.1736364   \n",
       "4080 ESTJ 0.6360400         0.1523822          0.6524200   0.1760419   \n",
       "4081 ESTJ 0.6407333         0.1452048          0.6783333   0.1824823   \n",
       "     loudness_mean loudness_stdev mode_mean mode_stdev speechiness_mean ⋯\n",
       "1    -8.352591     3.273317       0.6590909 0.4794950  0.06734091       ⋯\n",
       "2    -8.215697     3.356867       0.6363636 0.4885042  0.07427273       ⋯\n",
       "3    -5.046100     2.180554       0.5800000 0.4985694  0.27254600       ⋯\n",
       "⋮    ⋮             ⋮              ⋮         ⋮          ⋮                ⋱\n",
       "4079 -5.307063     1.531874       0.5625000 0.5123475  0.09024375       ⋯\n",
       "4080 -6.553020     2.813042       0.5400000 0.5034574  0.09537600       ⋯\n",
       "4081 -5.763733     2.075266       0.5555556 0.5025189  0.10697778       ⋯\n",
       "     liveness_mean liveness_stdev valence_mean valence_stdev tempo_mean\n",
       "1    0.1634023     0.0862659      0.4488841    0.2217635     120.9548  \n",
       "2    0.1545424     0.1124957      0.4476030    0.2160687     131.8712  \n",
       "3    0.2645200     0.2080966      0.2650300    0.1705175     128.2060  \n",
       "⋮    ⋮             ⋮              ⋮            ⋮             ⋮         \n",
       "4079 0.1578000     0.1065317      0.5220625    0.2437776     122.6099  \n",
       "4080 0.1564140     0.1230124      0.5587180    0.2778599     125.0429  \n",
       "4081 0.1925044     0.1268794      0.5557111    0.2316916     123.6504  \n",
       "     tempo_stdev instrumentalness_mean instrumentalness_stdev major_count\n",
       "1    32.16578    0.01997099            0.08180459             29         \n",
       "2    33.21601    0.06104086            0.17755873             21         \n",
       "3    26.92719    0.25035756            0.33180466             29         \n",
       "⋮    ⋮           ⋮                     ⋮                      ⋮          \n",
       "4079 33.19806    0.0009960725          0.0029272391            9         \n",
       "4080 29.28428    0.0389386528          0.1495546238           27         \n",
       "4081 27.03963    0.0001314116          0.0005088235           25         \n",
       "     minor_count\n",
       "1    15         \n",
       "2    12         \n",
       "3    21         \n",
       "⋮    ⋮          \n",
       "4079  7         \n",
       "4080 23         \n",
       "4081 20         "
      ]
     },
     "metadata": {},
     "output_type": "display_data"
    }
   ],
   "source": [
    "# remove function_pair, mutate columns to major and minor\n",
    "spotify_mbti <- spotify_mbti |>\n",
    "    select(-function_pair) |>\n",
    "    mutate(major_count = CMajor_count + `C#/DbMajor_count` + DMajor_count +\n",
    "           `D#_EbMajor_count` + EMajor_count + FMajor_count + GMajor_count +\n",
    "           `G#/AbMajor_count` + AMajor_count + BMajor_count + `A#/BbMajor_count` +\n",
    "           `F#/GbMajor_count`,\n",
    "           minor_count = Cminor_count + `C#/Dbminor_count` + Eminor_count +\n",
    "          Fminor_count + `F#/Gbminor_count` + `G#/Abminor_count` + \n",
    "          Aminor_count + `A#/Bbminor_count` + Dminor_count + `D#_Ebminor_count` +\n",
    "          Gminor_count + Bminor_count) |>\n",
    "    select(mbti:instrumentalness_stdev, major_count, minor_count)\n",
    "spotify_mbti"
   ]
  },
  {
   "cell_type": "code",
   "execution_count": 11,
   "id": "e1f6c519-6350-4114-8481-42487bccfdf0",
   "metadata": {},
   "outputs": [
    {
     "name": "stdout",
     "output_type": "stream",
     "text": [
      "Rows: 4,081\n",
      "Columns: 23\n",
      "$ mbti                   \u001b[3m\u001b[90m<fct>\u001b[39m\u001b[23m INFP, INFP, INFP, INFP, INFP, INFP, INFP, INFP,…\n",
      "$ danceability_mean      \u001b[3m\u001b[90m<dbl>\u001b[39m\u001b[23m 0.5578409, 0.5876364, 0.6770000, 0.5170000, 0.5…\n",
      "$ danceability_stdev     \u001b[3m\u001b[90m<dbl>\u001b[39m\u001b[23m 0.15501057, 0.13564425, 0.12800941, 0.16947739,…\n",
      "$ energy_mean            \u001b[3m\u001b[90m<dbl>\u001b[39m\u001b[23m 0.5533250, 0.5562727, 0.8512800, 0.5134119, 0.4…\n",
      "$ energy_stdev           \u001b[3m\u001b[90m<dbl>\u001b[39m\u001b[23m 0.22517799, 0.19164196, 0.12833646, 0.25834492,…\n",
      "$ loudness_mean          \u001b[3m\u001b[90m<dbl>\u001b[39m\u001b[23m -8.352591, -8.215697, -5.046100, -10.172833, -1…\n",
      "$ loudness_stdev         \u001b[3m\u001b[90m<dbl>\u001b[39m\u001b[23m 3.273317, 3.356867, 2.180554, 4.935140, 5.68517…\n",
      "$ mode_mean              \u001b[3m\u001b[90m<dbl>\u001b[39m\u001b[23m 0.6590909, 0.6363636, 0.5800000, 0.7857143, 0.8…\n",
      "$ mode_stdev             \u001b[3m\u001b[90m<dbl>\u001b[39m\u001b[23m 0.4794950, 0.4885042, 0.4985694, 0.4152997, 0.3…\n",
      "$ speechiness_mean       \u001b[3m\u001b[90m<dbl>\u001b[39m\u001b[23m 0.06734091, 0.07427273, 0.27254600, 0.05150952,…\n",
      "$ speechiness_stdev      \u001b[3m\u001b[90m<dbl>\u001b[39m\u001b[23m 0.06108258, 0.08338823, 0.17601286, 0.03391090,…\n",
      "$ acousticness_mean      \u001b[3m\u001b[90m<dbl>\u001b[39m\u001b[23m 0.29346909, 0.34143394, 0.05808475, 0.44216304,…\n",
      "$ acousticness_stdev     \u001b[3m\u001b[90m<dbl>\u001b[39m\u001b[23m 0.28608805, 0.26707676, 0.07481759, 0.36702457,…\n",
      "$ liveness_mean          \u001b[3m\u001b[90m<dbl>\u001b[39m\u001b[23m 0.1634023, 0.1545424, 0.2645200, 0.1526452, 0.1…\n",
      "$ liveness_stdev         \u001b[3m\u001b[90m<dbl>\u001b[39m\u001b[23m 0.08626590, 0.11249567, 0.20809663, 0.09595586,…\n",
      "$ valence_mean           \u001b[3m\u001b[90m<dbl>\u001b[39m\u001b[23m 0.4488841, 0.4476030, 0.2650300, 0.3378452, 0.3…\n",
      "$ valence_stdev          \u001b[3m\u001b[90m<dbl>\u001b[39m\u001b[23m 0.2217635, 0.2160687, 0.1705175, 0.2118900, 0.1…\n",
      "$ tempo_mean             \u001b[3m\u001b[90m<dbl>\u001b[39m\u001b[23m 120.95480, 131.87124, 128.20602, 120.59357, 114…\n",
      "$ tempo_stdev            \u001b[3m\u001b[90m<dbl>\u001b[39m\u001b[23m 32.16578, 33.21601, 26.92719, 34.33522, 30.0341…\n",
      "$ instrumentalness_mean  \u001b[3m\u001b[90m<dbl>\u001b[39m\u001b[23m 0.0199709930, 0.0610408642, 0.2503575614, 0.210…\n",
      "$ instrumentalness_stdev \u001b[3m\u001b[90m<dbl>\u001b[39m\u001b[23m 8.180459e-02, 1.775587e-01, 3.318047e-01, 2.943…\n",
      "$ major_count            \u001b[3m\u001b[90m<dbl>\u001b[39m\u001b[23m 29, 21, 29, 33, 41, 17, 32, 13, 49, 38, 25, 32,…\n",
      "$ minor_count            \u001b[3m\u001b[90m<dbl>\u001b[39m\u001b[23m 15, 12, 21, 9, 9, 14, 18, 37, 1, 12, 25, 18, 26…\n"
     ]
    }
   ],
   "source": [
    "glimpse(spotify_mbti)"
   ]
  },
  {
   "cell_type": "code",
   "execution_count": 6,
   "id": "519337cf-af6f-4274-a98a-0ec9ea62c8c7",
   "metadata": {},
   "outputs": [
    {
     "name": "stderr",
     "output_type": "stream",
     "text": [
      "Warning message:\n",
      "“Too little data to stratify.\n",
      "\u001b[36m•\u001b[39m Resampling will be unstratified.”\n"
     ]
    }
   ],
   "source": [
    "set.seed(1)\n",
    "\n",
    "spotify_split <- initial_split(spotify_mbti, prop = 0.75, strata = mbti)  \n",
    "spotify_mbti_train <- training(spotify_split)   \n",
    "spotify_mbti_test <- testing(spotify_split)"
   ]
  },
  {
   "cell_type": "markdown",
   "id": "2c0162a0-df99-40db-8948-b32d409dbb14",
   "metadata": {},
   "source": [
    "Using only training data, summarize the data in at least one table (this is exploratory data analysis). An example of a useful table could be one that reports the number of observations in each class, the means of the predictor variables you plan to use in your analysis and how many rows have missing data."
   ]
  },
  {
   "cell_type": "code",
   "execution_count": 7,
   "id": "1221580c-7ca7-4791-9469-ab643dc08c4c",
   "metadata": {},
   "outputs": [
    {
     "ename": "ERROR",
     "evalue": "Error in group_by(spotify_mbti_traing, mbti): object 'spotify_mbti_traing' not found\n",
     "output_type": "error",
     "traceback": [
      "Error in group_by(spotify_mbti_traing, mbti): object 'spotify_mbti_traing' not found\nTraceback:\n",
      "1. summarize(group_by(spotify_mbti_traing, mbti), count = n())",
      "2. group_by(spotify_mbti_traing, mbti)"
     ]
    }
   ],
   "source": [
    "observation_count <- spotify_mbti_traing |>\n",
    "    group_by(mbti) |>\n",
    "    summarize(count = n())\n",
    "observation_count"
   ]
  },
  {
   "cell_type": "markdown",
   "id": "deeeb7cb-01a4-4c4f-b086-db28dc5c4808",
   "metadata": {},
   "source": [
    "Using only training data, visualize the data with at least one plot relevant to the analysis you plan to do (this is exploratory data analysis). An example of a useful visualization could be one that compares the distributions of each of the predictor variables you plan to use in your analysis."
   ]
  },
  {
   "cell_type": "code",
   "execution_count": null,
   "id": "e6b657d0-701e-424c-8223-941ad8349e58",
   "metadata": {},
   "outputs": [],
   "source": [
    "visualization <- spotify_mbti_train |>  \n",
    "    ggplot(aes(x = danceability_mean, \n",
    "               y = energy_mean, \n",
    "               colour = mbti)) +\n",
    "        labs(x = \"Dabceability\",\n",
    "             y = \"Energy\",\n",
    "            colour = 'MBTI') +\n",
    "        geom_point() +\n",
    "        theme(text = element_text(size = 20))\n",
    "visualization"
   ]
  },
  {
   "cell_type": "markdown",
   "id": "659090af-1c29-4121-bae4-aa9a5b449296",
   "metadata": {},
   "source": [
    "### Methods: (Megan)\n",
    "Explain how you will conduct either your data analysis and which variables/columns you will use. Note - you do not need to use all variables/columns that exist in the raw data set. In fact, that's often not a good idea. For each variable think: is this a useful variable for prediction?\n",
    "* The keys are in separated column. To decrease the number of predictable variables, we need to put all the majors into one column and all the minors into another.\n",
    "* Remove function_pair\n",
    "\n",
    "Describe at least one way that you will visualize the results\n",
    "* visualize confusion_matrix (correctly identified vs. incorrectly identified; bar chart)"
   ]
  },
  {
   "cell_type": "markdown",
   "id": "db9fa50e-d748-4495-8274-3b72acc40e53",
   "metadata": {},
   "source": [
    "### Expected outcomes and significance:\n",
    "##### What do you expect to find?\n",
    "\n",
    "It is difficult to predict with confidence what we will find by analyzing music types and MBTI because music preference is complex and highly unique. However, we may be able to find correlations between certain MBTI types and specific factors in music, such as energy levels, danceability, key, loudness, etc. Using these trends we hope to predict an individual’s MBTI type based on variables of the music they enjoy.\n",
    "\n",
    "##### What impact could such findings have?\n",
    "\n",
    "Although the MBTI system is a controversial topic in the psychology community due to its inability to fully represent the intricacies of human personality, our project may prove to be useful in developing a general understanding of the relationship between music and personality. This knowledge may be purposeful in many areas, including but not limited to:\n",
    "\n",
    "Personal development: Individuals may utilize a better understanding of the relationship between their personality and music types to make well-informed decisions on their music of choice, or explore new types of music that may better align with their personality type.\n",
    "\n",
    "Advertisement: A better understanding of the relationship between personality and music type may allow companies to better curate targeted marketing strategies, such as personalized advertisements for musical merchandise or specially-made playlists.\n",
    "\n",
    "Music recommendation algorithms: Streaming platforms may be able to follow personality and music trends to suggest music more suitable to the listener’s personality type.\n",
    "\n",
    "##### What future questions could this lead to?\n",
    "\n",
    "There are several questions that our project could lead to, such as:\n",
    "\n",
    "Can musical preferences be used to suggest personality traits beyond MBTI types?\n",
    "\n",
    "Is there a difference in musical preference depending on mood/situation?\n",
    "\n",
    "How do environmental factors influence the relationship between music preferences and personality types?"
   ]
  },
  {
   "cell_type": "code",
   "execution_count": null,
   "id": "b024d7c7-9bf5-417c-9818-a5024a5bcd54",
   "metadata": {},
   "outputs": [],
   "source": []
  }
 ],
 "metadata": {
  "kernelspec": {
   "display_name": "R",
   "language": "R",
   "name": "ir"
  },
  "language_info": {
   "codemirror_mode": "r",
   "file_extension": ".r",
   "mimetype": "text/x-r-source",
   "name": "R",
   "pygments_lexer": "r",
   "version": "4.1.3"
  }
 },
 "nbformat": 4,
 "nbformat_minor": 5
}
