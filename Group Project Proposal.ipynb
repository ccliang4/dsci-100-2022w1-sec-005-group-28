{
 "cells": [
  {
   "cell_type": "markdown",
   "id": "9ca252b3-a0b9-42dc-8594-f978e1caa08c",
   "metadata": {},
   "source": [
    "# Title: What is the Myers–Briggs Type Indicator (MBTI) Associated with the Type of Music?"
   ]
  },
  {
   "cell_type": "markdown",
   "id": "c40f145d-4738-4d50-a1d9-21d2b27c457f",
   "metadata": {},
   "source": [
    "Link to the dataset: https://www.kaggle.com/datasets/xtrnglc/spotify-mbti-playlists"
   ]
  },
  {
   "cell_type": "code",
   "execution_count": 1,
   "id": "0382fdf7-d148-4925-88f3-2812480ed129",
   "metadata": {},
   "outputs": [
    {
     "name": "stderr",
     "output_type": "stream",
     "text": [
      "── \u001b[1mAttaching packages\u001b[22m ─────────────────────────────────────── tidyverse 1.3.1 ──\n",
      "\n",
      "\u001b[32m✔\u001b[39m \u001b[34mggplot2\u001b[39m 3.3.6     \u001b[32m✔\u001b[39m \u001b[34mpurrr  \u001b[39m 0.3.4\n",
      "\u001b[32m✔\u001b[39m \u001b[34mtibble \u001b[39m 3.1.7     \u001b[32m✔\u001b[39m \u001b[34mdplyr  \u001b[39m 1.0.9\n",
      "\u001b[32m✔\u001b[39m \u001b[34mtidyr  \u001b[39m 1.2.0     \u001b[32m✔\u001b[39m \u001b[34mstringr\u001b[39m 1.4.0\n",
      "\u001b[32m✔\u001b[39m \u001b[34mreadr  \u001b[39m 2.1.2     \u001b[32m✔\u001b[39m \u001b[34mforcats\u001b[39m 0.5.1\n",
      "\n",
      "── \u001b[1mConflicts\u001b[22m ────────────────────────────────────────── tidyverse_conflicts() ──\n",
      "\u001b[31m✖\u001b[39m \u001b[34mdplyr\u001b[39m::\u001b[32mfilter()\u001b[39m masks \u001b[34mstats\u001b[39m::filter()\n",
      "\u001b[31m✖\u001b[39m \u001b[34mdplyr\u001b[39m::\u001b[32mlag()\u001b[39m    masks \u001b[34mstats\u001b[39m::lag()\n",
      "\n",
      "── \u001b[1mAttaching packages\u001b[22m ────────────────────────────────────── tidymodels 1.0.0 ──\n",
      "\n",
      "\u001b[32m✔\u001b[39m \u001b[34mbroom       \u001b[39m 1.0.0     \u001b[32m✔\u001b[39m \u001b[34mrsample     \u001b[39m 1.0.0\n",
      "\u001b[32m✔\u001b[39m \u001b[34mdials       \u001b[39m 1.0.0     \u001b[32m✔\u001b[39m \u001b[34mtune        \u001b[39m 1.0.0\n",
      "\u001b[32m✔\u001b[39m \u001b[34minfer       \u001b[39m 1.0.2     \u001b[32m✔\u001b[39m \u001b[34mworkflows   \u001b[39m 1.0.0\n",
      "\u001b[32m✔\u001b[39m \u001b[34mmodeldata   \u001b[39m 1.0.0     \u001b[32m✔\u001b[39m \u001b[34mworkflowsets\u001b[39m 1.0.0\n",
      "\u001b[32m✔\u001b[39m \u001b[34mparsnip     \u001b[39m 1.0.0     \u001b[32m✔\u001b[39m \u001b[34myardstick   \u001b[39m 1.0.0\n",
      "\u001b[32m✔\u001b[39m \u001b[34mrecipes     \u001b[39m 1.0.1     \n",
      "\n",
      "── \u001b[1mConflicts\u001b[22m ───────────────────────────────────────── tidymodels_conflicts() ──\n",
      "\u001b[31m✖\u001b[39m \u001b[34mscales\u001b[39m::\u001b[32mdiscard()\u001b[39m masks \u001b[34mpurrr\u001b[39m::discard()\n",
      "\u001b[31m✖\u001b[39m \u001b[34mdplyr\u001b[39m::\u001b[32mfilter()\u001b[39m   masks \u001b[34mstats\u001b[39m::filter()\n",
      "\u001b[31m✖\u001b[39m \u001b[34mrecipes\u001b[39m::\u001b[32mfixed()\u001b[39m  masks \u001b[34mstringr\u001b[39m::fixed()\n",
      "\u001b[31m✖\u001b[39m \u001b[34mdplyr\u001b[39m::\u001b[32mlag()\u001b[39m      masks \u001b[34mstats\u001b[39m::lag()\n",
      "\u001b[31m✖\u001b[39m \u001b[34myardstick\u001b[39m::\u001b[32mspec()\u001b[39m masks \u001b[34mreadr\u001b[39m::spec()\n",
      "\u001b[31m✖\u001b[39m \u001b[34mrecipes\u001b[39m::\u001b[32mstep()\u001b[39m   masks \u001b[34mstats\u001b[39m::step()\n",
      "\u001b[34m•\u001b[39m Use \u001b[32mtidymodels_prefer()\u001b[39m to resolve common conflicts.\n",
      "\n"
     ]
    }
   ],
   "source": [
    "library(repr)\n",
    "library(tidyverse)\n",
    "library(tidymodels)\n",
    "options(repr.matrix.max.rows = 6)"
   ]
  },
  {
   "cell_type": "markdown",
   "id": "5a179ebc-db31-4f4d-80e6-5b8dd7ae1e58",
   "metadata": {},
   "source": [
    "### Introduction:\n",
    "The Myers-Briggs Type Indicator (MBTI), based on the theory of psychological types described by C. G. Jung, describes personality across four axes with a total of sixteen distinct combinations (The Myers & Briggs Foundation). Research shows that musical taste is related to personality, but little evidence demonstrates how predictable the musical features are. This study attempts to classify the MBTI associated with the given musical characteristics of a song using a k-nearest neighbor classification model. The dataset, titled \"Spotify MBTI Playlists\", contains aggregated information on eleven different musical features for a Spotify playlist on each row."
   ]
  },
  {
   "cell_type": "markdown",
   "id": "d580509d-f6a9-4149-aac8-11ab426ee6d1",
   "metadata": {},
   "source": [
    "### Preliminary exploratory data analysis:\n",
    "\n",
    "The dataset can be read directly as a csv file and it is tidy data. However, to maximize predictability, the key count is combined into major and minor columns (see method for more information)."
   ]
  },
  {
   "cell_type": "code",
   "execution_count": 2,
   "id": "64b71b20-89c4-4807-984f-e25d0cd23bdf",
   "metadata": {
    "tags": []
   },
   "outputs": [
    {
     "ename": "ERROR",
     "evalue": "Error: 'combine_mbti_df.csv' does not exist in current working directory ('/home/jovyan/dsci-100-2022w1-sec-005-group-28').\n",
     "output_type": "error",
     "traceback": [
      "Error: 'combine_mbti_df.csv' does not exist in current working directory ('/home/jovyan/dsci-100-2022w1-sec-005-group-28').\nTraceback:\n",
      "1. mutate(read_csv(\"combine_mbti_df.csv\"), mbti = as_factor(mbti))",
      "2. read_csv(\"combine_mbti_df.csv\")",
      "3. vroom::vroom(file, delim = \",\", col_names = col_names, col_types = col_types, \n .     col_select = {\n .         {\n .             col_select\n .         }\n .     }, id = id, .name_repair = name_repair, skip = skip, n_max = n_max, \n .     na = na, quote = quote, comment = comment, skip_empty_rows = skip_empty_rows, \n .     trim_ws = trim_ws, escape_double = TRUE, escape_backslash = FALSE, \n .     locale = locale, guess_max = guess_max, show_col_types = show_col_types, \n .     progress = progress, altrep = lazy, num_threads = num_threads)",
      "4. vroom_(file, delim = delim %||% col_types$delim, col_names = col_names, \n .     col_types = col_types, id = id, skip = skip, col_select = col_select, \n .     name_repair = .name_repair, na = na, quote = quote, trim_ws = trim_ws, \n .     escape_double = escape_double, escape_backslash = escape_backslash, \n .     comment = comment, skip_empty_rows = skip_empty_rows, locale = locale, \n .     guess_max = guess_max, n_max = n_max, altrep = vroom_altrep(altrep), \n .     num_threads = num_threads, progress = progress)",
      "5. (function (path, write = FALSE) \n . {\n .     if (is.raw(path)) {\n .         return(rawConnection(path, \"rb\"))\n .     }\n .     if (!is.character(path)) {\n .         return(path)\n .     }\n .     if (is_url(path)) {\n .         if (requireNamespace(\"curl\", quietly = TRUE)) {\n .             con <- curl::curl(path)\n .         }\n .         else {\n .             rlang::inform(\"`curl` package not installed, falling back to using `url()`\")\n .             con <- url(path)\n .         }\n .         ext <- tolower(tools::file_ext(path))\n .         return(switch(ext, zip = , bz2 = , xz = {\n .             close(con)\n .             stop(\"Reading from remote `\", ext, \"` compressed files is not supported,\\n\", \n .                 \"  download the files locally first.\", call. = FALSE)\n .         }, gz = gzcon(con), con))\n .     }\n .     p <- split_path_ext(basename(path))\n .     if (write) {\n .         path <- normalizePath(path, mustWork = FALSE)\n .     }\n .     else {\n .         path <- check_path(path)\n .     }\n .     if (rlang::is_installed(\"archive\")) {\n .         formats <- archive_formats(p$extension)\n .         extension <- p$extension\n .         while (is.null(formats) && nzchar(extension)) {\n .             extension <- split_path_ext(extension)$extension\n .             formats <- archive_formats(extension)\n .         }\n .         if (!is.null(formats)) {\n .             p$extension <- extension\n .             if (write) {\n .                 if (is.null(formats[[1]])) {\n .                   return(archive::file_write(path, filter = formats[[2]]))\n .                 }\n .                 return(archive::archive_write(path, p$path, format = formats[[1]], \n .                   filter = formats[[2]]))\n .             }\n .             if (is.null(formats[[1]])) {\n .                 return(archive::file_read(path, filter = formats[[2]]))\n .             }\n .             return(archive::archive_read(path, format = formats[[1]], \n .                 filter = formats[[2]]))\n .         }\n .     }\n .     if (!write) {\n .         compression <- detect_compression(path)\n .     }\n .     else {\n .         compression <- NA\n .     }\n .     if (is.na(compression)) {\n .         compression <- tools::file_ext(path)\n .     }\n .     if (write && compression == \"zip\") {\n .         stop(\"Can only read from, not write to, .zip\", call. = FALSE)\n .     }\n .     switch(compression, gz = gzfile(path, \"\"), bz2 = bzfile(path, \n .         \"\"), xz = xzfile(path, \"\"), zip = zipfile(path, \"\"), \n .         if (!has_trailing_newline(path)) {\n .             file(path)\n .         } else {\n .             path\n .         })\n . })(\"combine_mbti_df.csv\")",
      "6. check_path(path)",
      "7. stop(\"'\", path, \"' does not exist\", if (!is_absolute_path(path)) {\n .     paste0(\" in current working directory ('\", getwd(), \"')\")\n . }, \".\", call. = FALSE)"
     ]
    }
   ],
   "source": [
    "spotify_mbti <- read_csv(\"combine_mbti_df.csv\") |>\n",
    "    mutate(mbti = as_factor(mbti))\n",
    "spotify_mbti"
   ]
  },
  {
   "cell_type": "code",
   "execution_count": null,
   "id": "8eac675a-a945-4e12-97d3-551dfff5757b",
   "metadata": {},
   "outputs": [],
   "source": [
    "# remove function_pair, mutate columns to major and minor\n",
    "spotify_mbti_cleaned <- spotify_mbti |>\n",
    "    select(-function_pair) |>\n",
    "    mutate(major_count = CMajor_count + `C#/DbMajor_count` + DMajor_count +\n",
    "           `D#_EbMajor_count` + EMajor_count + FMajor_count + GMajor_count +\n",
    "           `G#/AbMajor_count` + AMajor_count + BMajor_count + `A#/BbMajor_count` +\n",
    "           `F#/GbMajor_count`,\n",
    "           minor_count = Cminor_count + `C#/Dbminor_count` + Eminor_count +\n",
    "          Fminor_count + `F#/Gbminor_count` + `G#/Abminor_count` + \n",
    "          Aminor_count + `A#/Bbminor_count` + Dminor_count + `D#_Ebminor_count` +\n",
    "          Gminor_count + Bminor_count) |>\n",
    "    select(mbti:instrumentalness_stdev, major_count, minor_count)\n",
    "spotify_mbti_cleaned"
   ]
  },
  {
   "cell_type": "code",
   "execution_count": null,
   "id": "255af224-1d32-474d-a4fc-ba4d179290ef",
   "metadata": {},
   "outputs": [],
   "source": [
    "glimpse(spotify_mbti_cleaned)"
   ]
  },
  {
   "cell_type": "code",
   "execution_count": null,
   "id": "519337cf-af6f-4274-a98a-0ec9ea62c8c7",
   "metadata": {},
   "outputs": [],
   "source": [
    "set.seed(1)\n",
    "\n",
    "spotify_split <- initial_split(spotify_mbti_cleaned, prop = 0.75, strata = mbti)  \n",
    "spotify_mbti_train <- training(spotify_split)   \n",
    "spotify_mbti_test <- testing(spotify_split)"
   ]
  },
  {
   "cell_type": "markdown",
   "id": "2c0162a0-df99-40db-8948-b32d409dbb14",
   "metadata": {},
   "source": [
    "Using only training data, summarize the data in at least one table (this is exploratory data analysis). An example of a useful table could be one that reports the number of observations in each class, the means of the predictor variables you plan to use in your analysis and how many rows have missing data."
   ]
  },
  {
   "cell_type": "code",
   "execution_count": null,
   "id": "1221580c-7ca7-4791-9469-ab643dc08c4c",
   "metadata": {},
   "outputs": [],
   "source": [
    "observation_count <- spotify_mbti_traing |>\n",
    "    group_by(mbti) |>\n",
    "    summarize(count = n())\n",
    "observation_count"
   ]
  },
  {
   "cell_type": "markdown",
   "id": "deeeb7cb-01a4-4c4f-b086-db28dc5c4808",
   "metadata": {},
   "source": [
    "Using only training data, visualize the data with at least one plot relevant to the analysis you plan to do (this is exploratory data analysis). An example of a useful visualization could be one that compares the distributions of each of the predictor variables you plan to use in your analysis."
   ]
  },
  {
   "cell_type": "code",
   "execution_count": null,
   "id": "e6b657d0-701e-424c-8223-941ad8349e58",
   "metadata": {},
   "outputs": [],
   "source": [
    "visualization <- spotify_mbti_train |>  \n",
    "    ggplot(aes(x = danceability_mean, \n",
    "               y = energy_mean, \n",
    "               colour = mbti)) +\n",
    "        labs(x = \"Dabceability\",\n",
    "             y = \"Energy\",\n",
    "            colour = 'MBTI') +\n",
    "        geom_point() +\n",
    "        theme(text = element_text(size = 20))\n",
    "visualization"
   ]
  },
  {
   "cell_type": "markdown",
   "id": "659090af-1c29-4121-bae4-aa9a5b449296",
   "metadata": {},
   "source": [
    "### Methods:\n",
    "#### Explain how you will conduct either your data analysis and which variables/columns you will use. Note - you do not need to use all variables/columns that exist in the raw data set. In fact, that's often not a good idea. For each variable think: is this a useful variable for prediction?\n",
    "We will conduct our data analysis by using K-nearest neighbor classification to predict MBTI from audio quality features of Spotify playlists. We will use all variables from danceability_mean to instrumentalness_stdev (removing function_pair as it is too repetitive and unnecessary), and to decrease the number of predictable variables, we  will need to put all the majors into one column and all the minors into another.\n",
    "\n",
    "#### Describe at least one way that you will visualize the results.\n",
    "One way we will visualize the results is by visualizing the confusion matrix as a bar plot, where we will plot the number of correctly identified MBTI types against the number of incorrectly identified MBTI types."
   ]
  },
  {
   "cell_type": "markdown",
   "id": "db9fa50e-d748-4495-8274-3b72acc40e53",
   "metadata": {},
   "source": [
    "### Expected outcomes and significance:\n",
    "##### What do you expect to find?\n",
    "\n",
    "It is difficult to predict with confidence what we will find by analyzing music types and MBTI because music preference is complex and highly unique. However, we may be able to find correlations between certain MBTI types and specific factors in music, such as energy levels, danceability, key, loudness, etc. Using these trends we hope to predict an individual’s MBTI type based on variables of the music they enjoy.\n",
    "\n",
    "##### What impact could such findings have?\n",
    "\n",
    "Although the MBTI system is a controversial topic in the psychology community due to its inability to fully represent the intricacies of human personality, our project may prove to be useful in developing a general understanding of the relationship between music and personality. This knowledge may be purposeful in many areas, including but not limited to:\n",
    "\n",
    "Personal development: Individuals may utilize a better understanding of the relationship between their personality and music types to make well-informed decisions on their music of choice, or explore new types\" of music that may better align with their personality type.\n",
    "\n",
    "Advertisement: A better understanding of the relationship between personality and music type may allow companies to better curate targeted marketing strategies, such as personalized advertisements for musical merchandise or specially-made playlists.\n",
    "\n",
    "Music recommendation algorithms: Streaming platforms may be able to follow personality and music trends to suggest music more suitable to the listener’s personality type.\n",
    "\n",
    "##### What future questions could this lead to?\n",
    "\n",
    "There are several questions that our project could lead to, such as:\n",
    "* Can musical preferences be used to suggest personality traits beyond MBTI types?\n",
    "* Is there a difference in musical preference depending on mood/situation?\n",
    "* How do environmental factors influence the relationship between music preferences and personality types?"
   ]
  },
  {
   "cell_type": "markdown",
   "id": "1a50e17c-b0d0-475b-afaa-11f6a572baba",
   "metadata": {},
   "source": [
    "Sources:\n",
    "* https://www.myersbriggs.org/my-mbti-personality-type/mbti-basics/\n",
    "* https://www.verywellmind.com/music-and-personality-2795424"
   ]
  },
  {
   "cell_type": "code",
   "execution_count": null,
   "id": "5003f2d3-9013-433d-85d3-57e97f54cefd",
   "metadata": {},
   "outputs": [],
   "source": []
  }
 ],
 "metadata": {
  "kernelspec": {
   "display_name": "R",
   "language": "R",
   "name": "ir"
  },
  "language_info": {
   "codemirror_mode": "r",
   "file_extension": ".r",
   "mimetype": "text/x-r-source",
   "name": "R",
   "pygments_lexer": "r",
   "version": "4.1.3"
  }
 },
 "nbformat": 4,
 "nbformat_minor": 5
}
