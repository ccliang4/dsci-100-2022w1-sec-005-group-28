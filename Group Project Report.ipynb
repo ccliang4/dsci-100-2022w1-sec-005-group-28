{
 "cells": [
  {
   "cell_type": "markdown",
   "id": "22585de3-e314-4c77-b19e-9c1cd2d1bc7b",
   "metadata": {},
   "source": [
    "# Title: What is the Myers–Briggs Type Indicator (MBTI) Associated with the musical features of a playlist?"
   ]
  },
  {
   "cell_type": "markdown",
   "id": "84e22e78-45c9-4832-ab8e-450b4f840d46",
   "metadata": {},
   "source": [
    "Link to the dataset: https://www.kaggle.com/datasets/xtrnglc/spotify-mbti-playlists"
   ]
  },
  {
   "cell_type": "code",
   "execution_count": 6,
   "id": "fc076c27-ccb0-4c08-91ba-82934db44bd5",
   "metadata": {},
   "outputs": [
    {
     "name": "stderr",
     "output_type": "stream",
     "text": [
      "── \u001b[1mAttaching packages\u001b[22m ─────────────────────────────────────── tidyverse 1.3.1 ──\n",
      "\n",
      "\u001b[32m✔\u001b[39m \u001b[34mggplot2\u001b[39m 3.3.6     \u001b[32m✔\u001b[39m \u001b[34mpurrr  \u001b[39m 0.3.4\n",
      "\u001b[32m✔\u001b[39m \u001b[34mtibble \u001b[39m 3.1.7     \u001b[32m✔\u001b[39m \u001b[34mdplyr  \u001b[39m 1.0.9\n",
      "\u001b[32m✔\u001b[39m \u001b[34mtidyr  \u001b[39m 1.2.0     \u001b[32m✔\u001b[39m \u001b[34mstringr\u001b[39m 1.4.0\n",
      "\u001b[32m✔\u001b[39m \u001b[34mreadr  \u001b[39m 2.1.2     \u001b[32m✔\u001b[39m \u001b[34mforcats\u001b[39m 0.5.1\n",
      "\n",
      "── \u001b[1mConflicts\u001b[22m ────────────────────────────────────────── tidyverse_conflicts() ──\n",
      "\u001b[31m✖\u001b[39m \u001b[34mdplyr\u001b[39m::\u001b[32mfilter()\u001b[39m masks \u001b[34mstats\u001b[39m::filter()\n",
      "\u001b[31m✖\u001b[39m \u001b[34mdplyr\u001b[39m::\u001b[32mlag()\u001b[39m    masks \u001b[34mstats\u001b[39m::lag()\n",
      "\n",
      "── \u001b[1mAttaching packages\u001b[22m ────────────────────────────────────── tidymodels 1.0.0 ──\n",
      "\n",
      "\u001b[32m✔\u001b[39m \u001b[34mbroom       \u001b[39m 1.0.0     \u001b[32m✔\u001b[39m \u001b[34mrsample     \u001b[39m 1.0.0\n",
      "\u001b[32m✔\u001b[39m \u001b[34mdials       \u001b[39m 1.0.0     \u001b[32m✔\u001b[39m \u001b[34mtune        \u001b[39m 1.0.0\n",
      "\u001b[32m✔\u001b[39m \u001b[34minfer       \u001b[39m 1.0.2     \u001b[32m✔\u001b[39m \u001b[34mworkflows   \u001b[39m 1.0.0\n",
      "\u001b[32m✔\u001b[39m \u001b[34mmodeldata   \u001b[39m 1.0.0     \u001b[32m✔\u001b[39m \u001b[34mworkflowsets\u001b[39m 1.0.0\n",
      "\u001b[32m✔\u001b[39m \u001b[34mparsnip     \u001b[39m 1.0.0     \u001b[32m✔\u001b[39m \u001b[34myardstick   \u001b[39m 1.0.0\n",
      "\u001b[32m✔\u001b[39m \u001b[34mrecipes     \u001b[39m 1.0.1     \n",
      "\n",
      "── \u001b[1mConflicts\u001b[22m ───────────────────────────────────────── tidymodels_conflicts() ──\n",
      "\u001b[31m✖\u001b[39m \u001b[34mscales\u001b[39m::\u001b[32mdiscard()\u001b[39m masks \u001b[34mpurrr\u001b[39m::discard()\n",
      "\u001b[31m✖\u001b[39m \u001b[34mdplyr\u001b[39m::\u001b[32mfilter()\u001b[39m   masks \u001b[34mstats\u001b[39m::filter()\n",
      "\u001b[31m✖\u001b[39m \u001b[34mrecipes\u001b[39m::\u001b[32mfixed()\u001b[39m  masks \u001b[34mstringr\u001b[39m::fixed()\n",
      "\u001b[31m✖\u001b[39m \u001b[34mdplyr\u001b[39m::\u001b[32mlag()\u001b[39m      masks \u001b[34mstats\u001b[39m::lag()\n",
      "\u001b[31m✖\u001b[39m \u001b[34myardstick\u001b[39m::\u001b[32mspec()\u001b[39m masks \u001b[34mreadr\u001b[39m::spec()\n",
      "\u001b[31m✖\u001b[39m \u001b[34mrecipes\u001b[39m::\u001b[32mstep()\u001b[39m   masks \u001b[34mstats\u001b[39m::step()\n",
      "\u001b[34m•\u001b[39m Use suppressPackageStartupMessages() to eliminate package startup messages\n",
      "\n"
     ]
    }
   ],
   "source": [
    "library(repr)\n",
    "library(tidyverse)\n",
    "library(tidymodels)\n",
    "library(rsample)\n",
    "options(repr.matrix.max.rows = 6)"
   ]
  },
  {
   "cell_type": "markdown",
   "id": "798d7fe7-71ef-46a3-90fc-bbcfdc11f6d2",
   "metadata": {},
   "source": [
    "## Introduction:\n",
    "The Myers-Briggs Type Indicator (MBTI), based on the theory of psychological types described by C. G. Jung, describes personality across four axes with a total of sixteen distinct combinations (The Myers & Briggs Foundation). Research shows that musical taste is related to personality, but little evidence demonstrates how predictable musical features are. \n",
    "\n",
    "This study attempts to classify the MBTI associated with the given musical characteristics of a playlist using a k-nearest neighbor classification model. The dataset, titled \"Spotify MBTI Playlists\", contains aggregated information on eleven different musical features for a Spotify playlist on each row."
   ]
  },
  {
   "cell_type": "code",
   "execution_count": 9,
   "id": "80e2f613-351c-4e68-bd54-eb397e819d50",
   "metadata": {},
   "outputs": [
    {
     "name": "stderr",
     "output_type": "stream",
     "text": [
      "\u001b[1mRows: \u001b[22m\u001b[34m4081\u001b[39m \u001b[1mColumns: \u001b[22m\u001b[34m46\u001b[39m\n",
      "\u001b[36m──\u001b[39m \u001b[1mColumn specification\u001b[22m \u001b[36m────────────────────────────────────────────────────────\u001b[39m\n",
      "\u001b[1mDelimiter:\u001b[22m \",\"\n",
      "\u001b[31mchr\u001b[39m  (2): mbti, function_pair\n",
      "\u001b[32mdbl\u001b[39m (44): danceability_mean, danceability_stdev, energy_mean, energy_stdev, ...\n",
      "\n",
      "\u001b[36mℹ\u001b[39m Use `spec()` to retrieve the full column specification for this data.\n",
      "\u001b[36mℹ\u001b[39m Specify the column types or set `show_col_types = FALSE` to quiet this message.\n"
     ]
    },
    {
     "data": {
      "text/html": [
       "<table class=\"dataframe\">\n",
       "<caption>A tibble: 4081 × 46</caption>\n",
       "<thead>\n",
       "\t<tr><th scope=col>mbti</th><th scope=col>function_pair</th><th scope=col>danceability_mean</th><th scope=col>danceability_stdev</th><th scope=col>energy_mean</th><th scope=col>energy_stdev</th><th scope=col>loudness_mean</th><th scope=col>loudness_stdev</th><th scope=col>mode_mean</th><th scope=col>mode_stdev</th><th scope=col>⋯</th><th scope=col>Aminor_count</th><th scope=col>AMajor_count</th><th scope=col>A#/Bbminor_count</th><th scope=col>BMajor_count</th><th scope=col>Dminor_count</th><th scope=col>D#_Ebminor_count</th><th scope=col>Gminor_count</th><th scope=col>A#/BbMajor_count</th><th scope=col>F#/GbMajor_count</th><th scope=col>Bminor_count</th></tr>\n",
       "\t<tr><th scope=col>&lt;fct&gt;</th><th scope=col>&lt;chr&gt;</th><th scope=col>&lt;dbl&gt;</th><th scope=col>&lt;dbl&gt;</th><th scope=col>&lt;dbl&gt;</th><th scope=col>&lt;dbl&gt;</th><th scope=col>&lt;dbl&gt;</th><th scope=col>&lt;dbl&gt;</th><th scope=col>&lt;dbl&gt;</th><th scope=col>&lt;dbl&gt;</th><th scope=col>⋯</th><th scope=col>&lt;dbl&gt;</th><th scope=col>&lt;dbl&gt;</th><th scope=col>&lt;dbl&gt;</th><th scope=col>&lt;dbl&gt;</th><th scope=col>&lt;dbl&gt;</th><th scope=col>&lt;dbl&gt;</th><th scope=col>&lt;dbl&gt;</th><th scope=col>&lt;dbl&gt;</th><th scope=col>&lt;dbl&gt;</th><th scope=col>&lt;dbl&gt;</th></tr>\n",
       "</thead>\n",
       "<tbody>\n",
       "\t<tr><td>INFP</td><td>NF</td><td>0.5578409</td><td>0.1550106</td><td>0.5533250</td><td>0.2251780</td><td>-8.352591</td><td>3.273317</td><td>0.6590909</td><td>0.4794950</td><td>⋯</td><td>2</td><td>2</td><td>1</td><td>4</td><td>0</td><td>0</td><td>0</td><td>0</td><td>0</td><td>0</td></tr>\n",
       "\t<tr><td>INFP</td><td>NF</td><td>0.5876364</td><td>0.1356443</td><td>0.5562727</td><td>0.1916420</td><td>-8.215697</td><td>3.356867</td><td>0.6363636</td><td>0.4885042</td><td>⋯</td><td>1</td><td>2</td><td>1</td><td>4</td><td>1</td><td>1</td><td>1</td><td>1</td><td>0</td><td>0</td></tr>\n",
       "\t<tr><td>INFP</td><td>NF</td><td>0.6770000</td><td>0.1280094</td><td>0.8512800</td><td>0.1283365</td><td>-5.046100</td><td>2.180554</td><td>0.5800000</td><td>0.4985694</td><td>⋯</td><td>0</td><td>1</td><td>1</td><td>3</td><td>1</td><td>0</td><td>0</td><td>1</td><td>2</td><td>9</td></tr>\n",
       "\t<tr><td>⋮</td><td>⋮</td><td>⋮</td><td>⋮</td><td>⋮</td><td>⋮</td><td>⋮</td><td>⋮</td><td>⋮</td><td>⋮</td><td>⋱</td><td>⋮</td><td>⋮</td><td>⋮</td><td>⋮</td><td>⋮</td><td>⋮</td><td>⋮</td><td>⋮</td><td>⋮</td><td>⋮</td></tr>\n",
       "\t<tr><td>ESTJ</td><td>SJ</td><td>0.5853125</td><td>0.1819083</td><td>0.6943750</td><td>0.1736364</td><td>-5.307063</td><td>1.531874</td><td>0.5625000</td><td>0.5123475</td><td>⋯</td><td>1</td><td>1</td><td>2</td><td>0</td><td>1</td><td>0</td><td>0</td><td>0</td><td>0</td><td>1</td></tr>\n",
       "\t<tr><td>ESTJ</td><td>SJ</td><td>0.6360400</td><td>0.1523822</td><td>0.6524200</td><td>0.1760419</td><td>-6.553020</td><td>2.813042</td><td>0.5400000</td><td>0.5034574</td><td>⋯</td><td>2</td><td>0</td><td>3</td><td>1</td><td>0</td><td>1</td><td>2</td><td>2</td><td>1</td><td>3</td></tr>\n",
       "\t<tr><td>ESTJ</td><td>SJ</td><td>0.6407333</td><td>0.1452048</td><td>0.6783333</td><td>0.1824823</td><td>-5.763733</td><td>2.075266</td><td>0.5555556</td><td>0.5025189</td><td>⋯</td><td>2</td><td>0</td><td>4</td><td>1</td><td>2</td><td>0</td><td>3</td><td>1</td><td>2</td><td>2</td></tr>\n",
       "</tbody>\n",
       "</table>\n"
      ],
      "text/latex": [
       "A tibble: 4081 × 46\n",
       "\\begin{tabular}{lllllllllllllllllllll}\n",
       " mbti & function\\_pair & danceability\\_mean & danceability\\_stdev & energy\\_mean & energy\\_stdev & loudness\\_mean & loudness\\_stdev & mode\\_mean & mode\\_stdev & ⋯ & Aminor\\_count & AMajor\\_count & A\\#/Bbminor\\_count & BMajor\\_count & Dminor\\_count & D\\#\\_Ebminor\\_count & Gminor\\_count & A\\#/BbMajor\\_count & F\\#/GbMajor\\_count & Bminor\\_count\\\\\n",
       " <fct> & <chr> & <dbl> & <dbl> & <dbl> & <dbl> & <dbl> & <dbl> & <dbl> & <dbl> & ⋯ & <dbl> & <dbl> & <dbl> & <dbl> & <dbl> & <dbl> & <dbl> & <dbl> & <dbl> & <dbl>\\\\\n",
       "\\hline\n",
       "\t INFP & NF & 0.5578409 & 0.1550106 & 0.5533250 & 0.2251780 & -8.352591 & 3.273317 & 0.6590909 & 0.4794950 & ⋯ & 2 & 2 & 1 & 4 & 0 & 0 & 0 & 0 & 0 & 0\\\\\n",
       "\t INFP & NF & 0.5876364 & 0.1356443 & 0.5562727 & 0.1916420 & -8.215697 & 3.356867 & 0.6363636 & 0.4885042 & ⋯ & 1 & 2 & 1 & 4 & 1 & 1 & 1 & 1 & 0 & 0\\\\\n",
       "\t INFP & NF & 0.6770000 & 0.1280094 & 0.8512800 & 0.1283365 & -5.046100 & 2.180554 & 0.5800000 & 0.4985694 & ⋯ & 0 & 1 & 1 & 3 & 1 & 0 & 0 & 1 & 2 & 9\\\\\n",
       "\t ⋮ & ⋮ & ⋮ & ⋮ & ⋮ & ⋮ & ⋮ & ⋮ & ⋮ & ⋮ & ⋱ & ⋮ & ⋮ & ⋮ & ⋮ & ⋮ & ⋮ & ⋮ & ⋮ & ⋮ & ⋮\\\\\n",
       "\t ESTJ & SJ & 0.5853125 & 0.1819083 & 0.6943750 & 0.1736364 & -5.307063 & 1.531874 & 0.5625000 & 0.5123475 & ⋯ & 1 & 1 & 2 & 0 & 1 & 0 & 0 & 0 & 0 & 1\\\\\n",
       "\t ESTJ & SJ & 0.6360400 & 0.1523822 & 0.6524200 & 0.1760419 & -6.553020 & 2.813042 & 0.5400000 & 0.5034574 & ⋯ & 2 & 0 & 3 & 1 & 0 & 1 & 2 & 2 & 1 & 3\\\\\n",
       "\t ESTJ & SJ & 0.6407333 & 0.1452048 & 0.6783333 & 0.1824823 & -5.763733 & 2.075266 & 0.5555556 & 0.5025189 & ⋯ & 2 & 0 & 4 & 1 & 2 & 0 & 3 & 1 & 2 & 2\\\\\n",
       "\\end{tabular}\n"
      ],
      "text/markdown": [
       "\n",
       "A tibble: 4081 × 46\n",
       "\n",
       "| mbti &lt;fct&gt; | function_pair &lt;chr&gt; | danceability_mean &lt;dbl&gt; | danceability_stdev &lt;dbl&gt; | energy_mean &lt;dbl&gt; | energy_stdev &lt;dbl&gt; | loudness_mean &lt;dbl&gt; | loudness_stdev &lt;dbl&gt; | mode_mean &lt;dbl&gt; | mode_stdev &lt;dbl&gt; | ⋯ ⋯ | Aminor_count &lt;dbl&gt; | AMajor_count &lt;dbl&gt; | A#/Bbminor_count &lt;dbl&gt; | BMajor_count &lt;dbl&gt; | Dminor_count &lt;dbl&gt; | D#_Ebminor_count &lt;dbl&gt; | Gminor_count &lt;dbl&gt; | A#/BbMajor_count &lt;dbl&gt; | F#/GbMajor_count &lt;dbl&gt; | Bminor_count &lt;dbl&gt; |\n",
       "|---|---|---|---|---|---|---|---|---|---|---|---|---|---|---|---|---|---|---|---|---|\n",
       "| INFP | NF | 0.5578409 | 0.1550106 | 0.5533250 | 0.2251780 | -8.352591 | 3.273317 | 0.6590909 | 0.4794950 | ⋯ | 2 | 2 | 1 | 4 | 0 | 0 | 0 | 0 | 0 | 0 |\n",
       "| INFP | NF | 0.5876364 | 0.1356443 | 0.5562727 | 0.1916420 | -8.215697 | 3.356867 | 0.6363636 | 0.4885042 | ⋯ | 1 | 2 | 1 | 4 | 1 | 1 | 1 | 1 | 0 | 0 |\n",
       "| INFP | NF | 0.6770000 | 0.1280094 | 0.8512800 | 0.1283365 | -5.046100 | 2.180554 | 0.5800000 | 0.4985694 | ⋯ | 0 | 1 | 1 | 3 | 1 | 0 | 0 | 1 | 2 | 9 |\n",
       "| ⋮ | ⋮ | ⋮ | ⋮ | ⋮ | ⋮ | ⋮ | ⋮ | ⋮ | ⋮ | ⋱ | ⋮ | ⋮ | ⋮ | ⋮ | ⋮ | ⋮ | ⋮ | ⋮ | ⋮ | ⋮ |\n",
       "| ESTJ | SJ | 0.5853125 | 0.1819083 | 0.6943750 | 0.1736364 | -5.307063 | 1.531874 | 0.5625000 | 0.5123475 | ⋯ | 1 | 1 | 2 | 0 | 1 | 0 | 0 | 0 | 0 | 1 |\n",
       "| ESTJ | SJ | 0.6360400 | 0.1523822 | 0.6524200 | 0.1760419 | -6.553020 | 2.813042 | 0.5400000 | 0.5034574 | ⋯ | 2 | 0 | 3 | 1 | 0 | 1 | 2 | 2 | 1 | 3 |\n",
       "| ESTJ | SJ | 0.6407333 | 0.1452048 | 0.6783333 | 0.1824823 | -5.763733 | 2.075266 | 0.5555556 | 0.5025189 | ⋯ | 2 | 0 | 4 | 1 | 2 | 0 | 3 | 1 | 2 | 2 |\n",
       "\n"
      ],
      "text/plain": [
       "     mbti function_pair danceability_mean danceability_stdev energy_mean\n",
       "1    INFP NF            0.5578409         0.1550106          0.5533250  \n",
       "2    INFP NF            0.5876364         0.1356443          0.5562727  \n",
       "3    INFP NF            0.6770000         0.1280094          0.8512800  \n",
       "⋮    ⋮    ⋮             ⋮                 ⋮                  ⋮          \n",
       "4079 ESTJ SJ            0.5853125         0.1819083          0.6943750  \n",
       "4080 ESTJ SJ            0.6360400         0.1523822          0.6524200  \n",
       "4081 ESTJ SJ            0.6407333         0.1452048          0.6783333  \n",
       "     energy_stdev loudness_mean loudness_stdev mode_mean mode_stdev ⋯\n",
       "1    0.2251780    -8.352591     3.273317       0.6590909 0.4794950  ⋯\n",
       "2    0.1916420    -8.215697     3.356867       0.6363636 0.4885042  ⋯\n",
       "3    0.1283365    -5.046100     2.180554       0.5800000 0.4985694  ⋯\n",
       "⋮    ⋮            ⋮             ⋮              ⋮         ⋮          ⋱\n",
       "4079 0.1736364    -5.307063     1.531874       0.5625000 0.5123475  ⋯\n",
       "4080 0.1760419    -6.553020     2.813042       0.5400000 0.5034574  ⋯\n",
       "4081 0.1824823    -5.763733     2.075266       0.5555556 0.5025189  ⋯\n",
       "     Aminor_count AMajor_count A#/Bbminor_count BMajor_count Dminor_count\n",
       "1    2            2            1                4            0           \n",
       "2    1            2            1                4            1           \n",
       "3    0            1            1                3            1           \n",
       "⋮    ⋮            ⋮            ⋮                ⋮            ⋮           \n",
       "4079 1            1            2                0            1           \n",
       "4080 2            0            3                1            0           \n",
       "4081 2            0            4                1            2           \n",
       "     D#_Ebminor_count Gminor_count A#/BbMajor_count F#/GbMajor_count\n",
       "1    0                0            0                0               \n",
       "2    1                1            1                0               \n",
       "3    0                0            1                2               \n",
       "⋮    ⋮                ⋮            ⋮                ⋮               \n",
       "4079 0                0            0                0               \n",
       "4080 1                2            2                1               \n",
       "4081 0                3            1                2               \n",
       "     Bminor_count\n",
       "1    0           \n",
       "2    0           \n",
       "3    9           \n",
       "⋮    ⋮           \n",
       "4079 1           \n",
       "4080 3           \n",
       "4081 2           "
      ]
     },
     "metadata": {},
     "output_type": "display_data"
    }
   ],
   "source": [
    "# Read the dataset\n",
    "spotify_mbti <- read_csv(\"combined_mbti_df.csv\") |>\n",
    "    mutate(mbti = as_factor(mbti))\n",
    "spotify_mbti"
   ]
  },
  {
   "cell_type": "code",
   "execution_count": 10,
   "id": "f4466213-3ac0-4337-9cdd-7dbed0d29309",
   "metadata": {},
   "outputs": [
    {
     "data": {
      "text/html": [
       "<table class=\"dataframe\">\n",
       "<caption>A tibble: 4077 × 23</caption>\n",
       "<thead>\n",
       "\t<tr><th scope=col>mbti</th><th scope=col>danceability_mean</th><th scope=col>danceability_stdev</th><th scope=col>energy_mean</th><th scope=col>energy_stdev</th><th scope=col>loudness_mean</th><th scope=col>loudness_stdev</th><th scope=col>mode_mean</th><th scope=col>mode_stdev</th><th scope=col>speechiness_mean</th><th scope=col>⋯</th><th scope=col>liveness_mean</th><th scope=col>liveness_stdev</th><th scope=col>valence_mean</th><th scope=col>valence_stdev</th><th scope=col>tempo_mean</th><th scope=col>tempo_stdev</th><th scope=col>instrumentalness_mean</th><th scope=col>instrumentalness_stdev</th><th scope=col>major_count</th><th scope=col>minor_count</th></tr>\n",
       "\t<tr><th scope=col>&lt;fct&gt;</th><th scope=col>&lt;dbl&gt;</th><th scope=col>&lt;dbl&gt;</th><th scope=col>&lt;dbl&gt;</th><th scope=col>&lt;dbl&gt;</th><th scope=col>&lt;dbl&gt;</th><th scope=col>&lt;dbl&gt;</th><th scope=col>&lt;dbl&gt;</th><th scope=col>&lt;dbl&gt;</th><th scope=col>&lt;dbl&gt;</th><th scope=col>⋯</th><th scope=col>&lt;dbl&gt;</th><th scope=col>&lt;dbl&gt;</th><th scope=col>&lt;dbl&gt;</th><th scope=col>&lt;dbl&gt;</th><th scope=col>&lt;dbl&gt;</th><th scope=col>&lt;dbl&gt;</th><th scope=col>&lt;dbl&gt;</th><th scope=col>&lt;dbl&gt;</th><th scope=col>&lt;dbl&gt;</th><th scope=col>&lt;dbl&gt;</th></tr>\n",
       "</thead>\n",
       "<tbody>\n",
       "\t<tr><td>INFP</td><td>0.5578409</td><td>0.1550106</td><td>0.5533250</td><td>0.2251780</td><td>-8.352591</td><td>3.273317</td><td>0.6590909</td><td>0.4794950</td><td>0.06734091</td><td>⋯</td><td>0.1634023</td><td>0.0862659</td><td>0.4488841</td><td>0.2217635</td><td>120.9548</td><td>32.16578</td><td>0.01997099</td><td>0.08180459</td><td>29</td><td>15</td></tr>\n",
       "\t<tr><td>INFP</td><td>0.5876364</td><td>0.1356443</td><td>0.5562727</td><td>0.1916420</td><td>-8.215697</td><td>3.356867</td><td>0.6363636</td><td>0.4885042</td><td>0.07427273</td><td>⋯</td><td>0.1545424</td><td>0.1124957</td><td>0.4476030</td><td>0.2160687</td><td>131.8712</td><td>33.21601</td><td>0.06104086</td><td>0.17755873</td><td>21</td><td>12</td></tr>\n",
       "\t<tr><td>INFP</td><td>0.6770000</td><td>0.1280094</td><td>0.8512800</td><td>0.1283365</td><td>-5.046100</td><td>2.180554</td><td>0.5800000</td><td>0.4985694</td><td>0.27254600</td><td>⋯</td><td>0.2645200</td><td>0.2080966</td><td>0.2650300</td><td>0.1705175</td><td>128.2060</td><td>26.92719</td><td>0.25035756</td><td>0.33180466</td><td>29</td><td>21</td></tr>\n",
       "\t<tr><td>⋮</td><td>⋮</td><td>⋮</td><td>⋮</td><td>⋮</td><td>⋮</td><td>⋮</td><td>⋮</td><td>⋮</td><td>⋮</td><td>⋱</td><td>⋮</td><td>⋮</td><td>⋮</td><td>⋮</td><td>⋮</td><td>⋮</td><td>⋮</td><td>⋮</td><td>⋮</td><td>⋮</td></tr>\n",
       "\t<tr><td>ESTJ</td><td>0.5853125</td><td>0.1819083</td><td>0.6943750</td><td>0.1736364</td><td>-5.307063</td><td>1.531874</td><td>0.5625000</td><td>0.5123475</td><td>0.09024375</td><td>⋯</td><td>0.1578000</td><td>0.1065317</td><td>0.5220625</td><td>0.2437776</td><td>122.6099</td><td>33.19806</td><td>0.0009960725</td><td>0.0029272391</td><td> 9</td><td> 7</td></tr>\n",
       "\t<tr><td>ESTJ</td><td>0.6360400</td><td>0.1523822</td><td>0.6524200</td><td>0.1760419</td><td>-6.553020</td><td>2.813042</td><td>0.5400000</td><td>0.5034574</td><td>0.09537600</td><td>⋯</td><td>0.1564140</td><td>0.1230124</td><td>0.5587180</td><td>0.2778599</td><td>125.0429</td><td>29.28428</td><td>0.0389386528</td><td>0.1495546238</td><td>27</td><td>23</td></tr>\n",
       "\t<tr><td>ESTJ</td><td>0.6407333</td><td>0.1452048</td><td>0.6783333</td><td>0.1824823</td><td>-5.763733</td><td>2.075266</td><td>0.5555556</td><td>0.5025189</td><td>0.10697778</td><td>⋯</td><td>0.1925044</td><td>0.1268794</td><td>0.5557111</td><td>0.2316916</td><td>123.6504</td><td>27.03963</td><td>0.0001314116</td><td>0.0005088235</td><td>25</td><td>20</td></tr>\n",
       "</tbody>\n",
       "</table>\n"
      ],
      "text/latex": [
       "A tibble: 4077 × 23\n",
       "\\begin{tabular}{lllllllllllllllllllll}\n",
       " mbti & danceability\\_mean & danceability\\_stdev & energy\\_mean & energy\\_stdev & loudness\\_mean & loudness\\_stdev & mode\\_mean & mode\\_stdev & speechiness\\_mean & ⋯ & liveness\\_mean & liveness\\_stdev & valence\\_mean & valence\\_stdev & tempo\\_mean & tempo\\_stdev & instrumentalness\\_mean & instrumentalness\\_stdev & major\\_count & minor\\_count\\\\\n",
       " <fct> & <dbl> & <dbl> & <dbl> & <dbl> & <dbl> & <dbl> & <dbl> & <dbl> & <dbl> & ⋯ & <dbl> & <dbl> & <dbl> & <dbl> & <dbl> & <dbl> & <dbl> & <dbl> & <dbl> & <dbl>\\\\\n",
       "\\hline\n",
       "\t INFP & 0.5578409 & 0.1550106 & 0.5533250 & 0.2251780 & -8.352591 & 3.273317 & 0.6590909 & 0.4794950 & 0.06734091 & ⋯ & 0.1634023 & 0.0862659 & 0.4488841 & 0.2217635 & 120.9548 & 32.16578 & 0.01997099 & 0.08180459 & 29 & 15\\\\\n",
       "\t INFP & 0.5876364 & 0.1356443 & 0.5562727 & 0.1916420 & -8.215697 & 3.356867 & 0.6363636 & 0.4885042 & 0.07427273 & ⋯ & 0.1545424 & 0.1124957 & 0.4476030 & 0.2160687 & 131.8712 & 33.21601 & 0.06104086 & 0.17755873 & 21 & 12\\\\\n",
       "\t INFP & 0.6770000 & 0.1280094 & 0.8512800 & 0.1283365 & -5.046100 & 2.180554 & 0.5800000 & 0.4985694 & 0.27254600 & ⋯ & 0.2645200 & 0.2080966 & 0.2650300 & 0.1705175 & 128.2060 & 26.92719 & 0.25035756 & 0.33180466 & 29 & 21\\\\\n",
       "\t ⋮ & ⋮ & ⋮ & ⋮ & ⋮ & ⋮ & ⋮ & ⋮ & ⋮ & ⋮ & ⋱ & ⋮ & ⋮ & ⋮ & ⋮ & ⋮ & ⋮ & ⋮ & ⋮ & ⋮ & ⋮\\\\\n",
       "\t ESTJ & 0.5853125 & 0.1819083 & 0.6943750 & 0.1736364 & -5.307063 & 1.531874 & 0.5625000 & 0.5123475 & 0.09024375 & ⋯ & 0.1578000 & 0.1065317 & 0.5220625 & 0.2437776 & 122.6099 & 33.19806 & 0.0009960725 & 0.0029272391 &  9 &  7\\\\\n",
       "\t ESTJ & 0.6360400 & 0.1523822 & 0.6524200 & 0.1760419 & -6.553020 & 2.813042 & 0.5400000 & 0.5034574 & 0.09537600 & ⋯ & 0.1564140 & 0.1230124 & 0.5587180 & 0.2778599 & 125.0429 & 29.28428 & 0.0389386528 & 0.1495546238 & 27 & 23\\\\\n",
       "\t ESTJ & 0.6407333 & 0.1452048 & 0.6783333 & 0.1824823 & -5.763733 & 2.075266 & 0.5555556 & 0.5025189 & 0.10697778 & ⋯ & 0.1925044 & 0.1268794 & 0.5557111 & 0.2316916 & 123.6504 & 27.03963 & 0.0001314116 & 0.0005088235 & 25 & 20\\\\\n",
       "\\end{tabular}\n"
      ],
      "text/markdown": [
       "\n",
       "A tibble: 4077 × 23\n",
       "\n",
       "| mbti &lt;fct&gt; | danceability_mean &lt;dbl&gt; | danceability_stdev &lt;dbl&gt; | energy_mean &lt;dbl&gt; | energy_stdev &lt;dbl&gt; | loudness_mean &lt;dbl&gt; | loudness_stdev &lt;dbl&gt; | mode_mean &lt;dbl&gt; | mode_stdev &lt;dbl&gt; | speechiness_mean &lt;dbl&gt; | ⋯ ⋯ | liveness_mean &lt;dbl&gt; | liveness_stdev &lt;dbl&gt; | valence_mean &lt;dbl&gt; | valence_stdev &lt;dbl&gt; | tempo_mean &lt;dbl&gt; | tempo_stdev &lt;dbl&gt; | instrumentalness_mean &lt;dbl&gt; | instrumentalness_stdev &lt;dbl&gt; | major_count &lt;dbl&gt; | minor_count &lt;dbl&gt; |\n",
       "|---|---|---|---|---|---|---|---|---|---|---|---|---|---|---|---|---|---|---|---|---|\n",
       "| INFP | 0.5578409 | 0.1550106 | 0.5533250 | 0.2251780 | -8.352591 | 3.273317 | 0.6590909 | 0.4794950 | 0.06734091 | ⋯ | 0.1634023 | 0.0862659 | 0.4488841 | 0.2217635 | 120.9548 | 32.16578 | 0.01997099 | 0.08180459 | 29 | 15 |\n",
       "| INFP | 0.5876364 | 0.1356443 | 0.5562727 | 0.1916420 | -8.215697 | 3.356867 | 0.6363636 | 0.4885042 | 0.07427273 | ⋯ | 0.1545424 | 0.1124957 | 0.4476030 | 0.2160687 | 131.8712 | 33.21601 | 0.06104086 | 0.17755873 | 21 | 12 |\n",
       "| INFP | 0.6770000 | 0.1280094 | 0.8512800 | 0.1283365 | -5.046100 | 2.180554 | 0.5800000 | 0.4985694 | 0.27254600 | ⋯ | 0.2645200 | 0.2080966 | 0.2650300 | 0.1705175 | 128.2060 | 26.92719 | 0.25035756 | 0.33180466 | 29 | 21 |\n",
       "| ⋮ | ⋮ | ⋮ | ⋮ | ⋮ | ⋮ | ⋮ | ⋮ | ⋮ | ⋮ | ⋱ | ⋮ | ⋮ | ⋮ | ⋮ | ⋮ | ⋮ | ⋮ | ⋮ | ⋮ | ⋮ |\n",
       "| ESTJ | 0.5853125 | 0.1819083 | 0.6943750 | 0.1736364 | -5.307063 | 1.531874 | 0.5625000 | 0.5123475 | 0.09024375 | ⋯ | 0.1578000 | 0.1065317 | 0.5220625 | 0.2437776 | 122.6099 | 33.19806 | 0.0009960725 | 0.0029272391 |  9 |  7 |\n",
       "| ESTJ | 0.6360400 | 0.1523822 | 0.6524200 | 0.1760419 | -6.553020 | 2.813042 | 0.5400000 | 0.5034574 | 0.09537600 | ⋯ | 0.1564140 | 0.1230124 | 0.5587180 | 0.2778599 | 125.0429 | 29.28428 | 0.0389386528 | 0.1495546238 | 27 | 23 |\n",
       "| ESTJ | 0.6407333 | 0.1452048 | 0.6783333 | 0.1824823 | -5.763733 | 2.075266 | 0.5555556 | 0.5025189 | 0.10697778 | ⋯ | 0.1925044 | 0.1268794 | 0.5557111 | 0.2316916 | 123.6504 | 27.03963 | 0.0001314116 | 0.0005088235 | 25 | 20 |\n",
       "\n"
      ],
      "text/plain": [
       "     mbti danceability_mean danceability_stdev energy_mean energy_stdev\n",
       "1    INFP 0.5578409         0.1550106          0.5533250   0.2251780   \n",
       "2    INFP 0.5876364         0.1356443          0.5562727   0.1916420   \n",
       "3    INFP 0.6770000         0.1280094          0.8512800   0.1283365   \n",
       "⋮    ⋮    ⋮                 ⋮                  ⋮           ⋮           \n",
       "4075 ESTJ 0.5853125         0.1819083          0.6943750   0.1736364   \n",
       "4076 ESTJ 0.6360400         0.1523822          0.6524200   0.1760419   \n",
       "4077 ESTJ 0.6407333         0.1452048          0.6783333   0.1824823   \n",
       "     loudness_mean loudness_stdev mode_mean mode_stdev speechiness_mean ⋯\n",
       "1    -8.352591     3.273317       0.6590909 0.4794950  0.06734091       ⋯\n",
       "2    -8.215697     3.356867       0.6363636 0.4885042  0.07427273       ⋯\n",
       "3    -5.046100     2.180554       0.5800000 0.4985694  0.27254600       ⋯\n",
       "⋮    ⋮             ⋮              ⋮         ⋮          ⋮                ⋱\n",
       "4075 -5.307063     1.531874       0.5625000 0.5123475  0.09024375       ⋯\n",
       "4076 -6.553020     2.813042       0.5400000 0.5034574  0.09537600       ⋯\n",
       "4077 -5.763733     2.075266       0.5555556 0.5025189  0.10697778       ⋯\n",
       "     liveness_mean liveness_stdev valence_mean valence_stdev tempo_mean\n",
       "1    0.1634023     0.0862659      0.4488841    0.2217635     120.9548  \n",
       "2    0.1545424     0.1124957      0.4476030    0.2160687     131.8712  \n",
       "3    0.2645200     0.2080966      0.2650300    0.1705175     128.2060  \n",
       "⋮    ⋮             ⋮              ⋮            ⋮             ⋮         \n",
       "4075 0.1578000     0.1065317      0.5220625    0.2437776     122.6099  \n",
       "4076 0.1564140     0.1230124      0.5587180    0.2778599     125.0429  \n",
       "4077 0.1925044     0.1268794      0.5557111    0.2316916     123.6504  \n",
       "     tempo_stdev instrumentalness_mean instrumentalness_stdev major_count\n",
       "1    32.16578    0.01997099            0.08180459             29         \n",
       "2    33.21601    0.06104086            0.17755873             21         \n",
       "3    26.92719    0.25035756            0.33180466             29         \n",
       "⋮    ⋮           ⋮                     ⋮                      ⋮          \n",
       "4075 33.19806    0.0009960725          0.0029272391            9         \n",
       "4076 29.28428    0.0389386528          0.1495546238           27         \n",
       "4077 27.03963    0.0001314116          0.0005088235           25         \n",
       "     minor_count\n",
       "1    15         \n",
       "2    12         \n",
       "3    21         \n",
       "⋮    ⋮          \n",
       "4075  7         \n",
       "4076 23         \n",
       "4077 20         "
      ]
     },
     "metadata": {},
     "output_type": "display_data"
    }
   ],
   "source": [
    "# Clean the dataset by combining all majors and minors into two columns and removing NA rows\n",
    "spotify_mbti_cleaned <- spotify_mbti |>\n",
    "    select(-function_pair) |>\n",
    "    mutate(major_count = CMajor_count + `C#/DbMajor_count` + DMajor_count +\n",
    "           `D#_EbMajor_count` + EMajor_count + FMajor_count + GMajor_count +\n",
    "           `G#/AbMajor_count` + AMajor_count + BMajor_count + `A#/BbMajor_count` +\n",
    "           `F#/GbMajor_count`,\n",
    "           minor_count = Cminor_count + `C#/Dbminor_count` + Eminor_count +\n",
    "          Fminor_count + `F#/Gbminor_count` + `G#/Abminor_count` + \n",
    "          Aminor_count + `A#/Bbminor_count` + Dminor_count + `D#_Ebminor_count` +\n",
    "          Gminor_count + Bminor_count) |>\n",
    "    select(mbti:instrumentalness_stdev, major_count, minor_count) |>\n",
    "    filter(!is.na(minor_count))\n",
    "\n",
    "spotify_mbti_cleaned"
   ]
  },
  {
   "cell_type": "code",
   "execution_count": 12,
   "id": "344404a9-c38a-4d41-a8b8-09ff5d52227d",
   "metadata": {},
   "outputs": [],
   "source": [
    "# Seed setting and data splitting\n",
    "set.seed(1)\n",
    "\n",
    "spotify_split <- initial_split(spotify_mbti_cleaned, prop = 0.75)  \n",
    "spotify_mbti_train <- training(spotify_split)   \n",
    "spotify_mbti_test <- testing(spotify_split)"
   ]
  },
  {
   "cell_type": "code",
   "execution_count": null,
   "id": "749b9878-4153-43bf-b499-b9094686a2c0",
   "metadata": {},
   "outputs": [],
   "source": []
  },
  {
   "cell_type": "markdown",
   "id": "7efffbe7-44fc-484e-9f5e-6c0c6feebde9",
   "metadata": {},
   "source": [
    "## Methods & Results:\n",
    "\n",
    "INSTRUCTIONS:\n",
    "describe in written English the methods you used to perform your analysis from beginning to end that narrates the code the does the analysis.\n",
    "your report should include code which:\n",
    "loads data from the original source on the web \n",
    "wrangles and cleans the data from it's original (downloaded) format to the format necessary for the planned analysis\n",
    "performs a summary of the data set that is relevant for exploratory data analysis related to the planned analysis \n",
    "creates a visualization of the dataset that is relevant for exploratory data analysis related to the planned analysis\n",
    "performs the data analysis\n",
    "creates a visualization of the analysis \n",
    "note: all tables and figure should have a figure/table number and a legend\n",
    "\n",
    "\n",
    "We will conduct our data analysis by using the K-nearest neighbor classification to predict MBTI from the musical features of Spotify playlists. All variables will be used except for function_pair as it represents the same information as mbti. To decrease the number of predictable variables, we will need to put all the majors into one column and all the minors into another. Furthermore, cross-validation will be used to tune the number of neighbors to optimize the model's performance.\n",
    "\n",
    "One way we will visualize the results is by visualizing the confusion matrix as a bar plot with the number of correctly identified MBTI types plot against the number of incorrectly identified MBTI types."
   ]
  },
  {
   "cell_type": "markdown",
   "id": "9c38464d-3395-417e-9664-5b2a33c010bf",
   "metadata": {},
   "source": [
    "## Discussion\n",
    "* summarize what you found\n",
    "* discuss whether this is what you expected to find?\n",
    "* discuss what impact could such findings have?\n",
    "* discuss what future questions could this lead to?"
   ]
  },
  {
   "cell_type": "markdown",
   "id": "af51e1de-bb5b-460a-8a1c-4a0840cfc73b",
   "metadata": {},
   "source": [
    "## References\n",
    "At least 2 citations of literature relevant to the project (format is your choice, just be consistent across the references).\n",
    "Make sure to cite the source of your data as well.\n",
    "\n",
    "* https://www.kaggle.com/datasets/xtrnglc/spotify-mbti-playlists\n",
    "* https://www.myersbriggs.org/my-mbti-personality-type/mbti-basics/\n",
    "* https://www.verywellmind.com/music-and-personality-2795424"
   ]
  },
  {
   "cell_type": "code",
   "execution_count": null,
   "id": "acd15683-1973-4945-8096-c7b59368efe9",
   "metadata": {},
   "outputs": [],
   "source": []
  }
 ],
 "metadata": {
  "kernelspec": {
   "display_name": "R",
   "language": "R",
   "name": "ir"
  },
  "language_info": {
   "codemirror_mode": "r",
   "file_extension": ".r",
   "mimetype": "text/x-r-source",
   "name": "R",
   "pygments_lexer": "r",
   "version": "4.1.3"
  }
 },
 "nbformat": 4,
 "nbformat_minor": 5
}
